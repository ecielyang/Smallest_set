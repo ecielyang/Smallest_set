{
 "cells": [
  {
   "cell_type": "code",
   "execution_count": 4,
   "id": "ab6ef9a7",
   "metadata": {},
   "outputs": [
    {
     "data": {
      "text/plain": [
       "((11678, 768), (1298, 768))"
      ]
     },
     "execution_count": 4,
     "metadata": {},
     "output_type": "execute_result"
    }
   ],
   "source": [
    "import numpy as np\n",
    "X = {}\n",
    "y = {}\n",
    "X[\"train\"] = np.load(\"./train_feature_save.npy\",allow_pickle=True )\n",
    "y[\"train\"] = np.load(\"./train_label_save.npy\")\n",
    "X[\"dev\"] = np.load(\"./test_feature_save.npy\")\n",
    "y[\"dev\"] = np.load(\"./test_label_save.npy\")\n",
    "X[\"train\"].shape, X[\"dev\"].shape"
   ]
  },
  {
   "cell_type": "code",
   "execution_count": 5,
   "id": "946a03d0",
   "metadata": {},
   "outputs": [
    {
     "data": {
      "text/plain": [
       "((11678,), (1298,))"
      ]
     },
     "execution_count": 5,
     "metadata": {},
     "output_type": "execute_result"
    }
   ],
   "source": [
    "y[\"train\"]=y[\"train\"].squeeze()\n",
    "y[\"dev\"]=y[\"dev\"].squeeze()\n",
    "y[\"train\"].shape, y[\"dev\"].shape"
   ]
  },
  {
   "cell_type": "code",
   "execution_count": 6,
   "id": "8a69b5d0",
   "metadata": {},
   "outputs": [
    {
     "name": "stderr",
     "output_type": "stream",
     "text": [
      "/opt/anaconda3/envs/torch/lib/python3.8/site-packages/sklearn/linear_model/_logistic.py:814: ConvergenceWarning: lbfgs failed to converge (status=1):\n",
      "STOP: TOTAL NO. of ITERATIONS REACHED LIMIT.\n",
      "\n",
      "Increase the number of iterations (max_iter) or scale the data as shown in:\n",
      "    https://scikit-learn.org/stable/modules/preprocessing.html\n",
      "Please also refer to the documentation for alternative solver options:\n",
      "    https://scikit-learn.org/stable/modules/linear_model.html#logistic-regression\n",
      "  n_iter_i = _check_optimize_result(\n"
     ]
    },
    {
     "data": {
      "text/plain": [
       "0.9714946070878274"
      ]
     },
     "execution_count": 6,
     "metadata": {},
     "output_type": "execute_result"
    }
   ],
   "source": [
    "from sklearn.linear_model import LogisticRegression\n",
    "model = LogisticRegression(penalty='l2', C=0.1)\n",
    "\n",
    "model.fit(X[\"train\"], y[\"train\"])\n",
    "pred = np.reshape(model.predict_proba(X[\"dev\"])[:, 1], (model.predict_proba(X[\"dev\"])[:, 1].shape[0], 1))\n",
    "model.score(X[\"dev\"], y[\"dev\"])"
   ]
  },
  {
   "cell_type": "code",
   "execution_count": 7,
   "id": "8782fd10",
   "metadata": {},
   "outputs": [
    {
     "data": {
      "text/plain": [
       "0.8370044052863437"
      ]
     },
     "execution_count": 7,
     "metadata": {},
     "output_type": "execute_result"
    }
   ],
   "source": [
    "import sklearn.metrics as mc\n",
    "predl = model.predict(X[\"dev\"])\n",
    "mc.f1_score(y[\"dev\"], predl)"
   ]
  },
  {
   "cell_type": "code",
   "execution_count": 8,
   "id": "46c97b1c",
   "metadata": {},
   "outputs": [
    {
     "data": {
      "text/plain": [
       "0.9910287410012639"
      ]
     },
     "execution_count": 8,
     "metadata": {},
     "output_type": "execute_result"
    }
   ],
   "source": [
    "fpr, tpr, thresholds = mc.roc_curve(y[\"dev\"], pred)\n",
    "mc.auc(fpr, tpr)"
   ]
  },
  {
   "cell_type": "code",
   "execution_count": 4,
   "id": "14bc6d04",
   "metadata": {},
   "outputs": [
    {
     "data": {
      "text/plain": [
       "((11678, 769), (1298, 769))"
      ]
     },
     "execution_count": 4,
     "metadata": {},
     "output_type": "execute_result"
    }
   ],
   "source": [
    "w = np.concatenate((model.coef_, model.intercept_[None, :]), axis=1)\n",
    "F_train = np.concatenate([X[\"train\"], np.ones((X[\"train\"].shape[0], 1))], axis=1) # Concatenating one to calculate the gradient with respect to intercept\n",
    "F_dev = np.concatenate([X[\"dev\"], np.ones((X[\"dev\"].shape[0], 1))], axis=1)\n",
    "\n",
    "error_train = model.predict_proba(X[\"train\"])[:, 1] - y[\"train\"]\n",
    "error_dev = model.predict_proba(X[\"dev\"])[:, 1] - y[\"dev\"]\n",
    "\n",
    "gradient_train = F_train * error_train[:, None]\n",
    "gradient_dev = F_dev * error_dev[:, None]\n",
    "gradient_train.shape, gradient_dev.shape"
   ]
  },
  {
   "cell_type": "code",
   "execution_count": 5,
   "id": "298c652b",
   "metadata": {},
   "outputs": [
    {
     "data": {
      "text/plain": [
       "True"
      ]
     },
     "execution_count": 5,
     "metadata": {},
     "output_type": "execute_result"
    }
   ],
   "source": [
    "probs = model.predict_proba(X[\"train\"])[:, 1]\n",
    "hessian = F_train.T @ np.diag(probs * (1 - probs)) @ F_train / X[\"train\"].shape[0]\n",
    "np.all(np.linalg.eigvals(hessian) > 0)"
   ]
  },
  {
   "cell_type": "code",
   "execution_count": 6,
   "id": "30db036d",
   "metadata": {},
   "outputs": [],
   "source": [
    "#from scipy import sparse\n",
    "probs = model.predict_proba(X[\"train\"])[:, 1]\n",
    "hessian = F_train.T @ np.diag(probs * (1 - probs)) @ F_train / X[\"train\"].shape[0] + 10 * np.eye(F_train.shape[1]) / X[\"train\"].shape[0]\n",
    "inverse_hessian = np.linalg.inv(hessian)"
   ]
  },
  {
   "cell_type": "code",
   "execution_count": 7,
   "id": "f744d0d6",
   "metadata": {},
   "outputs": [
    {
     "data": {
      "text/plain": [
       "True"
      ]
     },
     "execution_count": 7,
     "metadata": {},
     "output_type": "execute_result"
    }
   ],
   "source": [
    "np.all(np.linalg.eigvals(hessian) > 0)"
   ]
  },
  {
   "cell_type": "code",
   "execution_count": 8,
   "id": "c863366c",
   "metadata": {},
   "outputs": [
    {
     "data": {
      "text/plain": [
       "(1298, 11678)"
      ]
     },
     "execution_count": 8,
     "metadata": {},
     "output_type": "execute_result"
    }
   ],
   "source": [
    "eps = 1 / X[\"train\"].shape[0]\n",
    "delta_k = -eps * inverse_hessian @ gradient_train.T\n",
    "pred = np.reshape(model.predict_proba(X[\"dev\"])[:, 1], (model.predict_proba(X[\"dev\"])[:, 1].shape[0], 1))\n",
    "grad_f = F_dev * (pred * (1 - pred))\n",
    "delta_pred = grad_f @ delta_k\n",
    "delta_pred.shape"
   ]
  },
  {
   "cell_type": "code",
   "execution_count": 9,
   "id": "97da08a4",
   "metadata": {},
   "outputs": [],
   "source": [
    "np.save(\"old_predictions.npy\", pred)"
   ]
  },
  {
   "cell_type": "code",
   "execution_count": 24,
   "id": "6610c4ea",
   "metadata": {},
   "outputs": [],
   "source": [
    "def Remove(k, scores, test_idx):\n",
    "    #print(\"test_idx\", test_idx)\n",
    "    #print(\"old\")\n",
    "    #print(pred[test_idx])\n",
    "    \n",
    "    if pred[test_idx] > 0.5:\n",
    "        top_k_index = scores[test_idx].argsort()[-k:]\n",
    "    else:\n",
    "        top_k_index = scores[test_idx].argsort()[:k]\n",
    "\n",
    "    X_k = np.delete(X[\"train\"], top_k_index, axis=0)\n",
    "    y_k = np.delete(y[\"train\"], top_k_index, axis=0)\n",
    "\n",
    "        \n",
    "    prediction = -np.sum(scores[test_idx][top_k_index])\n",
    "    \n",
    "    #print(\"prediction\", prediction)\n",
    "    \n",
    "\n",
    "    return X_k, y_k, prediction"
   ]
  },
  {
   "cell_type": "code",
   "execution_count": 31,
   "id": "9be5e544",
   "metadata": {},
   "outputs": [],
   "source": [
    "def new_train(k, dev_index, scores):\n",
    "    X_k, y_k, prediction = Remove(k, scores, dev_index)\n",
    "    \n",
    "    if y_k.shape[0] == np.sum(y_k) or np.sum(y_k) == 0: # data contains only one class: 1\n",
    "        return None, None, None\n",
    "\n",
    "    # Fit the model again\n",
    "    model_k = LogisticRegression(penalty='l2', C=0.1)\n",
    "    model_k.fit(X_k, y_k)\n",
    "\n",
    "    # predictthe probaility with test point\n",
    "    test_point = X[\"dev\"][dev_index]\n",
    "    test_point=np.reshape(test_point, (1,-1))\n",
    "    \n",
    "    new = model_k.predict_proba(test_point)[0][1]\n",
    "    change = -(model.predict_proba(test_point)[0][1] - new)\n",
    "    #change = model_k.predict_proba(test_point)[0][1]-model.predict_proba(test_point)[0][1]\n",
    "    flip = (model.predict(test_point) == model_k.predict(test_point))\n",
    "    \n",
    "    \"\"\"\n",
    "    print(\"change    \", change)\n",
    "    print(\"old       \", model.predict_proba(test_point)[0][1])\n",
    "    print()\n",
    "    \"\"\"\n",
    "    \n",
    "  \n",
    "    return change, flip, prediction,new"
   ]
  },
  {
   "cell_type": "markdown",
   "id": "b5960c14",
   "metadata": {},
   "source": [
    "# exact_k"
   ]
  },
  {
   "cell_type": "code",
   "execution_count": 32,
   "id": "1266fa75",
   "metadata": {},
   "outputs": [],
   "source": [
    "def exact_k(test_idx):\n",
    "    for k in range(1, np.sum(y[\"train\"])):\n",
    "        _, flip,_ = new_train(k, test_idx, delta_pred)\n",
    "        if flip == False:\n",
    "            return k\n",
    "    return None"
   ]
  },
  {
   "cell_type": "code",
   "execution_count": 33,
   "id": "2cf7178d",
   "metadata": {},
   "outputs": [
    {
     "data": {
      "text/plain": [
       "'\\n# Loop over all dev points:\\nimport warnings\\nwarnings.filterwarnings(\"ignore\")\\n\\nexact_ks = []\\nfor test_idx in range(X[\"dev\"].shape[0]):\\n    k =exact_k(test_idx)\\n    print(test_idx, k)\\n    exact_ks.append(k)\\n\\nexact_ks=np.array(exact_ks)\\nnp.save(\"exact_ks_IP.npy\", exact_ks)\\n'"
      ]
     },
     "execution_count": 33,
     "metadata": {},
     "output_type": "execute_result"
    }
   ],
   "source": [
    "\"\"\"\n",
    "# Loop over all dev points:\n",
    "import warnings\n",
    "warnings.filterwarnings(\"ignore\")\n",
    "\n",
    "exact_ks = []\n",
    "for test_idx in range(X[\"dev\"].shape[0]):\n",
    "    k =exact_k(test_idx)\n",
    "    print(test_idx, k)\n",
    "    exact_ks.append(k)\n",
    "\n",
    "exact_ks=np.array(exact_ks)\n",
    "np.save(\"exact_ks_IP.npy\", exact_ks)\n",
    "\"\"\""
   ]
  },
  {
   "cell_type": "markdown",
   "id": "92c268f9",
   "metadata": {},
   "source": [
    "# Find approximate k by IF"
   ]
  },
  {
   "cell_type": "code",
   "execution_count": 34,
   "id": "d881d752",
   "metadata": {},
   "outputs": [],
   "source": [
    "def pred_change(k, scores, test_idx):\n",
    "    X_k, y_k, prediction = Remove(k, delta_pred, test_idx)\n",
    "    "
   ]
  },
  {
   "cell_type": "code",
   "execution_count": 35,
   "id": "eeda6ab2",
   "metadata": {},
   "outputs": [],
   "source": [
    "def approximate_k(test_idx):\n",
    "    old = pred[test_idx].item()\n",
    "    \n",
    "    if pred[test_idx] > 0.5:\n",
    "        top_k_index = np.flip(delta_pred[test_idx].argsort())\n",
    "    else:\n",
    "        top_k_index = delta_pred[test_idx].argsort()\n",
    "    \n",
    "    for k in range(1, y[\"train\"].shape[0]):\n",
    "        change = -np.sum(delta_pred[test_idx][top_k_index[:k]])\n",
    "        #print(\"prediction\", change)\n",
    "        \n",
    "        if old > 0.5 and old + change < 0.5:\n",
    "            return k\n",
    "        elif old < 0.5 and old + change > 0.5:\n",
    "            return k\n",
    "        \n",
    "    return None"
   ]
  },
  {
   "cell_type": "code",
   "execution_count": 36,
   "id": "35816649",
   "metadata": {},
   "outputs": [
    {
     "name": "stdout",
     "output_type": "stream",
     "text": [
      "18 118\n",
      "old [0.27485948] new 0.9743993646105525\n",
      "\n",
      "20 141\n",
      "old [0.22657775] new 0.9632434959894152\n",
      "\n",
      "25 1676\n",
      "old [0.88644729] new 7.513093053375219e-07\n",
      "\n",
      "31 373\n",
      "old [0.14596388] new 0.9993218328962026\n",
      "\n",
      "53 89\n",
      "old [0.27601841] new 0.9576108092522893\n",
      "\n",
      "61 4\n",
      "old [0.48484722] new 0.8624298407241414\n",
      "\n",
      "76 83\n",
      "old [0.74428304] new 0.08685835430735338\n",
      "\n",
      "84 780\n",
      "old [0.14556645] new 0.9998790966677573\n",
      "\n",
      "88 669\n",
      "old [0.85986639] new 4.45012299197562e-05\n",
      "\n",
      "95 78\n",
      "old [0.32894261] new 0.7309410052072397\n",
      "\n",
      "101 49\n",
      "old [0.65205793] new 0.3071784133459746\n",
      "\n",
      "104 3502\n",
      "old [0.8847335] new 3.863940874065676e-08\n",
      "\n",
      "105 2582\n",
      "old [0.1292337] new 0.9999983065666274\n",
      "\n",
      "116 233\n",
      "old [0.22332667] new 0.9864652646249228\n",
      "\n",
      "123 16\n",
      "old [0.57786056] new 0.42062011980368746\n",
      "\n",
      "124 117\n",
      "old [0.2808638] new 0.8491610032710978\n",
      "\n",
      "128 79\n",
      "old [0.70311474] new 0.1145858970075972\n",
      "\n",
      "130 116\n",
      "old [0.2658888] new 0.8780143126482344\n",
      "\n",
      "154 318\n",
      "old [0.19004498] new 0.9742821985528719\n",
      "\n",
      "158 199\n",
      "old [0.77736997] new 0.0471229287078373\n",
      "\n",
      "169 130\n",
      "old [0.2815472] new 0.9255713032138374\n",
      "\n",
      "197 35\n",
      "old [0.38535728] new 0.765266607772158\n",
      "\n",
      "199 295\n",
      "old [0.83523424] new 0.0010967806200251485\n",
      "\n",
      "217 1433\n",
      "old [0.15435231] new 0.9998922159168109\n",
      "\n",
      "238 330\n",
      "old [0.81614313] new 0.010171696810670854\n",
      "\n",
      "253 1\n",
      "old [0.49680148] new 0.38197479535520923\n",
      "\n",
      "259 500\n",
      "old [0.15280946] new 0.9992054853805433\n",
      "\n",
      "274 109\n",
      "old [0.25562903] new 0.8036941742562523\n",
      "\n",
      "275 208\n",
      "old [0.80337388] new 0.03572670870172703\n",
      "\n",
      "277 127\n",
      "old [0.26109447] new 0.9098376678818108\n",
      "\n",
      "290 74\n",
      "old [0.67574443] new 0.2259297488045498\n",
      "\n",
      "303 72\n",
      "old [0.69648702] new 0.1491562693999162\n",
      "\n",
      "316 131\n",
      "old [0.74734325] new 0.17320472184215796\n",
      "\n",
      "317 1461\n",
      "old [0.87596474] new 3.825880521123778e-07\n",
      "\n",
      "318 47\n",
      "old [0.6677275] new 0.43852627329823624\n",
      "\n",
      "327 150\n",
      "old [0.30210256] new 0.7285649539211095\n",
      "\n",
      "328 14\n",
      "old [0.57664827] new 0.5435121844384089\n",
      "\n",
      "331 62\n",
      "old [0.70958911] new 0.29300183815165376\n",
      "\n",
      "353 377\n",
      "old [0.82504666] new 0.0014245732251585567\n",
      "\n",
      "371 298\n",
      "old [0.78967192] new 0.06491040079073065\n",
      "\n",
      "393 393\n",
      "old [0.20951224] new 0.9956220644305451\n",
      "\n",
      "403 183\n",
      "old [0.78920083] new 0.04333793342583587\n",
      "\n",
      "429 236\n",
      "old [0.17971101] new 0.997645188950009\n",
      "\n",
      "449 73\n",
      "old [0.73934703] new 0.28530341425781747\n",
      "\n",
      "467 861\n",
      "old [0.84662956] new 0.00015961956813383913\n",
      "\n",
      "485 123\n",
      "old [0.27536246] new 0.9789210120336477\n",
      "\n",
      "486 683\n",
      "old [0.16552073] new 0.9989587241656019\n",
      "\n",
      "489 789\n",
      "old [0.14268783] new 0.999936680620756\n",
      "\n",
      "495 1615\n",
      "old [0.11353604] new 0.9999956129213606\n",
      "\n",
      "516 61\n",
      "old [0.75353259] new 0.7721781643330016\n",
      "\n",
      "524 25\n",
      "old [0.60516604] new 0.5454214625956798\n",
      "\n",
      "543 198\n",
      "old [0.22136867] new 0.9568877383362705\n",
      "\n",
      "548 21\n",
      "old [0.41174773] new 0.5868743986749213\n",
      "\n",
      "554 33\n",
      "old [0.66867363] new 0.6552852035166247\n",
      "\n",
      "563 360\n",
      "old [0.81633456] new 0.005177714925081704\n",
      "\n",
      "579 1135\n",
      "old [0.83605071] new 0.000292720372453001\n",
      "\n",
      "604 398\n",
      "old [0.14694785] new 0.9997985686238956\n",
      "\n",
      "626 14\n",
      "old [0.62527522] new 0.7630011843849864\n",
      "\n",
      "637 1008\n",
      "old [0.17231291] new 0.9992546458837943\n",
      "\n",
      "650 30\n",
      "old [0.40604184] new 0.8592736415163938\n",
      "\n",
      "658 4\n",
      "old [0.526457] new 0.6178874118840028\n",
      "\n",
      "672 206\n",
      "old [0.23857367] new 0.9766915826759546\n",
      "\n",
      "679 44\n",
      "old [0.64027971] new 0.48667924306895805\n",
      "\n",
      "695 77\n",
      "old [0.28045676] new 0.8070892713592517\n",
      "\n",
      "703 34\n",
      "old [0.66070226] new 0.5509486396364878\n",
      "\n",
      "735 88\n",
      "old [0.70704875] new 0.4528036753174455\n",
      "\n",
      "768 214\n",
      "old [0.23157435] new 0.9926170375882742\n",
      "\n",
      "772 1734\n",
      "old [0.14772919] new 0.9999766979778894\n",
      "\n",
      "786 1\n",
      "old [0.50621803] new 0.6024349332697965\n",
      "\n",
      "788 1059\n",
      "old [0.12374177] new 0.9999858424786338\n",
      "\n",
      "791 3760\n",
      "old [0.88632852] new 6.334500597362524e-08\n",
      "\n",
      "804 328\n",
      "old [0.84860813] new 0.0012802074387181412\n",
      "\n",
      "806 113\n",
      "old [0.76072214] new 0.07466950541061061\n",
      "\n",
      "811 66\n",
      "old [0.34802496] new 0.7602356988628705\n",
      "\n",
      "846 20\n",
      "old [0.41877778] new 0.7665858328766749\n",
      "\n",
      "857 25\n",
      "old [0.36419051] new 0.634957364400848\n",
      "\n",
      "864 67\n",
      "old [0.68120821] new 0.2792333292011865\n",
      "\n",
      "876 58\n",
      "old [0.67166718] new 0.45182958300122633\n",
      "\n",
      "915 2741\n",
      "old [0.13569883] new 0.999998915357703\n",
      "\n",
      "918 11\n",
      "old [0.4401069] new 0.8309769134886765\n",
      "\n",
      "923 161\n",
      "old [0.25935149] new 0.9132768700165069\n",
      "\n",
      "943 98\n",
      "old [0.72336701] new 0.15656773171259142\n",
      "\n",
      "946 190\n",
      "old [0.74780305] new 0.13253974037970076\n",
      "\n",
      "950 1\n",
      "old [0.5032332] new 0.477633699837843\n",
      "\n",
      "952 64\n",
      "old [0.66620005] new 0.2968867187779637\n",
      "\n",
      "956 677\n",
      "old [0.830303] new 0.001495114984371196\n",
      "\n",
      "958 953\n",
      "old [0.14650294] new 0.9998605781681159\n",
      "\n",
      "975 254\n",
      "old [0.8171584] new 0.00845195648786391\n",
      "\n",
      "978 15\n",
      "old [0.43443407] new 0.5872958583876036\n",
      "\n",
      "1013 5\n",
      "old [0.47263289] new 0.5546526279067063\n",
      "\n",
      "1015 84\n",
      "old [0.24503079] new 0.9704828519254275\n",
      "\n",
      "1026 13\n",
      "old [0.44623288] new 0.84458791874728\n",
      "\n",
      "1034 143\n",
      "old [0.77416928] new 0.10818744587623673\n",
      "\n",
      "1037 140\n",
      "old [0.75898228] new 0.2878790365798056\n",
      "\n",
      "1041 130\n",
      "old [0.73764109] new 0.18647085352945664\n",
      "\n",
      "1068 990\n",
      "old [0.11880756] new 0.999998393646504\n",
      "\n",
      "1100 2092\n",
      "old [0.14067227] new 0.9999952844669654\n",
      "\n",
      "1116 130\n",
      "old [0.2939628] new 0.92426782652967\n",
      "\n",
      "1144 48\n",
      "old [0.6447715] new 0.4790080401596469\n",
      "\n",
      "1159 113\n",
      "old [0.25921583] new 0.990648494866272\n",
      "\n",
      "1160 939\n",
      "old [0.17762838] new 0.999311733617871\n",
      "\n",
      "1161 1\n",
      "old [0.5083294] new 0.3319427269524614\n",
      "\n",
      "1178 314\n",
      "old [0.82829309] new 0.008694845524668227\n",
      "\n",
      "1213 54\n",
      "old [0.33023459] new 0.7505627987976918\n",
      "\n",
      "1219 1756\n",
      "old [0.14172103] new 0.9999958760963337\n",
      "\n",
      "1220 46\n",
      "old [0.39371776] new 0.8925934456490606\n",
      "\n",
      "1234 50\n",
      "old [0.37969531] new 0.5780602367759733\n",
      "\n",
      "1257 21\n",
      "old [0.3938685] new 0.7158271270585559\n",
      "\n",
      "1271 250\n",
      "old [0.18618992] new 0.9922021201275457\n",
      "\n",
      "1276 46\n",
      "old [0.67538245] new 0.5410641757294857\n",
      "\n",
      "1286 138\n",
      "old [0.72690944] new 0.13592152594986887\n",
      "\n",
      "1291 452\n",
      "old [0.83398774] new 0.0030412256770616145\n",
      "\n"
     ]
    }
   ],
   "source": [
    "# Loop over all dev points:\n",
    "import warnings\n",
    "warnings.filterwarnings(\"ignore\")\n",
    "\n",
    "appro_ks = []\n",
    "new_predictions = []\n",
    "for test_idx in range(X[\"dev\"].shape[0]):\n",
    "    appro_k = approximate_k(test_idx)\n",
    "    if appro_k != None:\n",
    "        _, _, _, new_prediction = new_train(appro_k, test_idx, delta_pred)\n",
    "        print(test_idx, appro_k)\n",
    "        print(\"old\", pred[test_idx], \"new\", new_prediction)\n",
    "        print()\n",
    "        appro_ks.append(appro_k)\n",
    "        new_predictions.append(new_prediction)\n",
    "    else:\n",
    "        appro_ks.append(None)\n",
    "        new_predictions.append(None)\n",
    "\n"
   ]
  },
  {
   "cell_type": "code",
   "execution_count": 39,
   "id": "6add0b37",
   "metadata": {},
   "outputs": [],
   "source": [
    "appro_ks= np.array(appro_ks)\n",
    "new_predictions=np.array(new_predictions)\n",
    "np.save(\"appro_ks_IP.npy\", appro_ks)\n",
    "np.save(\"new_predictions.npy\", new_predictions)\n",
    "np.save(\"old_predictions.npy\", pred)"
   ]
  },
  {
   "cell_type": "markdown",
   "id": "d36a59c1",
   "metadata": {},
   "source": [
    "# Difference of change and prediction when k increasing"
   ]
  },
  {
   "cell_type": "code",
   "execution_count": null,
   "id": "d8f1d4af",
   "metadata": {},
   "outputs": [],
   "source": [
    "\"\"\"\n",
    "row = len(list(range(0, X[\"dev\"].shape[0])))\n",
    "col = len(list(range(1, np.sum(y[\"train\"]))))\n",
    "changes = np.zeros((row, col))\n",
    "prediction = np.zeros((row, col))\n",
    "\n",
    "import warnings\n",
    "warnings.filterwarnings(\"ignore\")\n",
    "for i in range(0, X[\"dev\"].shape[0]):\n",
    "    print(i)\n",
    "    for j in range(1, np.sum(y[\"train\"]):\n",
    "        changes[i, j-1], _, prediction[i, j-1] = new_train(j, i, delta_pred)\n",
    "        \n",
    "   \n",
    "np.save(\"pred_change_app.npy\", prediction)\n",
    "np.save(\"changes.npy\", changes)\n",
    "\n",
    "difference = prediction - changes\n",
    "np.save(\"difference_k_appk.npy\", difference)\n",
    "\"\"\""
   ]
  }
 ],
 "metadata": {
  "kernelspec": {
   "display_name": "Python 3 (ipykernel)",
   "language": "python",
   "name": "python3"
  },
  "language_info": {
   "codemirror_mode": {
    "name": "ipython",
    "version": 3
   },
   "file_extension": ".py",
   "mimetype": "text/x-python",
   "name": "python",
   "nbconvert_exporter": "python",
   "pygments_lexer": "ipython3",
   "version": "3.8.12"
  }
 },
 "nbformat": 4,
 "nbformat_minor": 5
}
