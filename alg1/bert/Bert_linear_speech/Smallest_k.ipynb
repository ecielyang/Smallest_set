{
 "cells": [
  {
   "cell_type": "code",
   "execution_count": 20,
   "id": "ab6ef9a7",
   "metadata": {},
   "outputs": [
    {
     "data": {
      "text/plain": [
       "((9632, 768), (1071, 768))"
      ]
     },
     "execution_count": 20,
     "metadata": {},
     "output_type": "execute_result"
    }
   ],
   "source": [
    "import numpy as np\n",
    "X = {}\n",
    "y = {}\n",
    "X[\"train\"] = np.load(\"./train_feature_save.npy\",allow_pickle=True )\n",
    "y[\"train\"] = np.load(\"./train_label_save.npy\")\n",
    "X[\"dev\"] = np.load(\"./test_feature_save.npy\")\n",
    "y[\"dev\"] = np.load(\"./test_label_save.npy\")\n",
    "X[\"train\"].shape, X[\"dev\"].shape"
   ]
  },
  {
   "cell_type": "code",
   "execution_count": 21,
   "id": "946a03d0",
   "metadata": {},
   "outputs": [
    {
     "data": {
      "text/plain": [
       "((9632,), (1071,))"
      ]
     },
     "execution_count": 21,
     "metadata": {},
     "output_type": "execute_result"
    }
   ],
   "source": [
    "y[\"train\"]=y[\"train\"].squeeze()\n",
    "y[\"dev\"]=y[\"dev\"].squeeze()\n",
    "y[\"train\"].shape, y[\"dev\"].shape"
   ]
  },
  {
   "cell_type": "code",
   "execution_count": 22,
   "id": "8a69b5d0",
   "metadata": {},
   "outputs": [
    {
     "data": {
      "text/plain": [
       "0.8935574229691877"
      ]
     },
     "execution_count": 22,
     "metadata": {},
     "output_type": "execute_result"
    }
   ],
   "source": [
    "from sklearn.linear_model import LogisticRegression\n",
    "l2 = 10\n",
    "model = LogisticRegression(penalty='l2', C=1/l2)\n",
    "\n",
    "model.fit(X[\"train\"], y[\"train\"])\n",
    "pred = np.reshape(model.predict_proba(X[\"dev\"])[:, 1], (model.predict_proba(X[\"dev\"])[:, 1].shape[0], 1))\n",
    "model.score(X[\"dev\"], y[\"dev\"])"
   ]
  },
  {
   "cell_type": "code",
   "execution_count": 23,
   "id": "8782fd10",
   "metadata": {},
   "outputs": [
    {
     "data": {
      "text/plain": [
       "0.2597402597402597"
      ]
     },
     "execution_count": 23,
     "metadata": {},
     "output_type": "execute_result"
    }
   ],
   "source": [
    "import sklearn.metrics as mc\n",
    "predl = model.predict(X[\"dev\"])\n",
    "mc.f1_score(y[\"dev\"], predl)"
   ]
  },
  {
   "cell_type": "code",
   "execution_count": 24,
   "id": "46c97b1c",
   "metadata": {},
   "outputs": [
    {
     "data": {
      "text/plain": [
       "0.8810535863553097"
      ]
     },
     "execution_count": 24,
     "metadata": {},
     "output_type": "execute_result"
    }
   ],
   "source": [
    "fpr, tpr, thresholds = mc.roc_curve(y[\"dev\"], pred)\n",
    "mc.auc(fpr, tpr)"
   ]
  },
  {
   "cell_type": "code",
   "execution_count": 25,
   "id": "e9aca990",
   "metadata": {},
   "outputs": [
    {
     "name": "stdout",
     "output_type": "stream",
     "text": [
      "0.5348837209302325\n",
      "              precision    recall  f1-score   support\n",
      "\n",
      "         0.0       0.95      0.93      0.94       953\n",
      "         1.0       0.49      0.58      0.53       118\n",
      "\n",
      "    accuracy                           0.89      1071\n",
      "   macro avg       0.72      0.76      0.74      1071\n",
      "weighted avg       0.90      0.89      0.89      1071\n",
      "\n"
     ]
    }
   ],
   "source": [
    "# change threshold\n",
    "threshold = 0.25\n",
    "decisions = (pred >= threshold).astype(int)\n",
    "print(mc.f1_score(np.reshape(y[\"dev\"], (1071, 1)), decisions))\n",
    "print(mc.classification_report(np.reshape(y[\"dev\"], (1071, 1)), decisions))"
   ]
  },
  {
   "cell_type": "code",
   "execution_count": 26,
   "id": "14bc6d04",
   "metadata": {},
   "outputs": [
    {
     "data": {
      "text/plain": [
       "((9632, 769), (1071, 769))"
      ]
     },
     "execution_count": 26,
     "metadata": {},
     "output_type": "execute_result"
    }
   ],
   "source": [
    "w = np.concatenate((model.coef_, model.intercept_[None, :]), axis=1)\n",
    "F_train = np.concatenate([X[\"train\"], np.ones((X[\"train\"].shape[0], 1))], axis=1) # Concatenating one to calculate the gradient with respect to intercept\n",
    "F_dev = np.concatenate([X[\"dev\"], np.ones((X[\"dev\"].shape[0], 1))], axis=1)\n",
    "\n",
    "error_train = model.predict_proba(X[\"train\"])[:, 1] - y[\"train\"]\n",
    "error_dev = model.predict_proba(X[\"dev\"])[:, 1] - y[\"dev\"]\n",
    "\n",
    "gradient_train = F_train * error_train[:, None]\n",
    "gradient_dev = F_dev * error_dev[:, None]\n",
    "gradient_train.shape, gradient_dev.shape"
   ]
  },
  {
   "cell_type": "code",
   "execution_count": 27,
   "id": "298c652b",
   "metadata": {},
   "outputs": [
    {
     "data": {
      "text/plain": [
       "True"
      ]
     },
     "execution_count": 27,
     "metadata": {},
     "output_type": "execute_result"
    }
   ],
   "source": [
    "probs = model.predict_proba(X[\"train\"])[:, 1]\n",
    "hessian = F_train.T @ np.diag(probs * (1 - probs)) @ F_train / X[\"train\"].shape[0]\n",
    "np.all(np.linalg.eigvals(hessian) > 0)"
   ]
  },
  {
   "cell_type": "code",
   "execution_count": 28,
   "id": "30db036d",
   "metadata": {},
   "outputs": [],
   "source": [
    "#from scipy import sparse\n",
    "probs = model.predict_proba(X[\"train\"])[:, 1]\n",
    "hessian = F_train.T @ np.diag(probs * (1 - probs)) @ F_train / X[\"train\"].shape[0] + l2 * np.eye(F_train.shape[1]) / X[\"train\"].shape[0]\n",
    "inverse_hessian = np.linalg.inv(hessian)"
   ]
  },
  {
   "cell_type": "code",
   "execution_count": 29,
   "id": "f744d0d6",
   "metadata": {},
   "outputs": [
    {
     "data": {
      "text/plain": [
       "True"
      ]
     },
     "execution_count": 29,
     "metadata": {},
     "output_type": "execute_result"
    }
   ],
   "source": [
    "np.all(np.linalg.eigvals(hessian) > 0)"
   ]
  },
  {
   "cell_type": "code",
   "execution_count": 30,
   "id": "c863366c",
   "metadata": {},
   "outputs": [
    {
     "data": {
      "text/plain": [
       "(1071, 9632)"
      ]
     },
     "execution_count": 30,
     "metadata": {},
     "output_type": "execute_result"
    }
   ],
   "source": [
    "eps = 1 / X[\"train\"].shape[0]\n",
    "delta_k = -eps * inverse_hessian @ gradient_train.T\n",
    "pred = np.reshape(model.predict_proba(X[\"dev\"])[:, 1], (model.predict_proba(X[\"dev\"])[:, 1].shape[0], 1))\n",
    "grad_f = F_dev * (pred * (1 - pred))\n",
    "delta_pred = grad_f @ delta_k\n",
    "delta_pred.shape"
   ]
  },
  {
   "cell_type": "code",
   "execution_count": 31,
   "id": "97da08a4",
   "metadata": {},
   "outputs": [],
   "source": [
    "np.save(\"old_predictions.npy\", pred)"
   ]
  },
  {
   "cell_type": "code",
   "execution_count": 32,
   "id": "6610c4ea",
   "metadata": {},
   "outputs": [],
   "source": [
    "def Remove(k, scores, test_idx):\n",
    "    #print(\"test_idx\", test_idx)\n",
    "    #print(\"old\")\n",
    "    #print(pred[test_idx])\n",
    "    #print(\"k\", k)\n",
    "    \n",
    "    if pred[test_idx] > 0.25:\n",
    "        top_k_index = scores[test_idx].argsort()[-k:]\n",
    "    else:\n",
    "        top_k_index = scores[test_idx].argsort()[:k]\n",
    "\n",
    "    X_k = np.delete(X[\"train\"], top_k_index, axis=0)\n",
    "    y_k = np.delete(y[\"train\"], top_k_index, axis=0)\n",
    "\n",
    "        \n",
    "    prediction = -np.sum(scores[test_idx][top_k_index])\n",
    "    \n",
    "    \n",
    "    #print(\"prediction\", prediction)\n",
    "\n",
    "    return X_k, y_k, prediction"
   ]
  },
  {
   "cell_type": "code",
   "execution_count": 33,
   "id": "9be5e544",
   "metadata": {},
   "outputs": [],
   "source": [
    "def new_train(k, dev_index, scores):\n",
    "    X_k, y_k, prediction = Remove(k, scores, dev_index)\n",
    "    if y_k.shape[0] == np.sum(y_k) or np.sum(y_k) == 0: # data contains only one class: 1\n",
    "        return None, None, None, None\n",
    "\n",
    "    # Fit the model again\n",
    "    model_k = LogisticRegression(penalty='l2', C=0.1)\n",
    "    model_k.fit(X_k, y_k)\n",
    "\n",
    "    # predictthe probaility with test point\n",
    "    test_point = X[\"dev\"][dev_index]\n",
    "    test_point=np.reshape(test_point, (1,-1))\n",
    "    new = model_k.predict_proba(test_point)[0][1]\n",
    "\n",
    "    change = -(model.predict_proba(test_point)[0][1] - model_k.predict_proba(test_point)[0][1])\n",
    "    #change = model_k.predict_proba(test_point)[0][1]-model.predict_proba(test_point)[0][1]\n",
    "    flip = ((model.predict(test_point)>0.25) == (model_k.predict(test_point)>0.25))\n",
    "    \n",
    "    \n",
    "    #print(\"change    \", change)\n",
    "    #print(\"old       \", model.predict_proba(test_point)[0][1])\n",
    "    #print()\n",
    "    \n",
    "    \n",
    "    \n",
    "  \n",
    "    return change, flip, prediction, new"
   ]
  },
  {
   "cell_type": "markdown",
   "id": "b5960c14",
   "metadata": {},
   "source": [
    "# exact_k"
   ]
  },
  {
   "cell_type": "code",
   "execution_count": 34,
   "id": "1266fa75",
   "metadata": {},
   "outputs": [],
   "source": [
    "def exact_k(test_idx):\n",
    "    for k in range(1, np.sum(y[\"train\"])):\n",
    "        _, flip,_ = new_train(k, test_idx, delta_pred)\n",
    "        if flip == False:\n",
    "            return k\n",
    "    return None"
   ]
  },
  {
   "cell_type": "code",
   "execution_count": 35,
   "id": "2cf7178d",
   "metadata": {},
   "outputs": [
    {
     "data": {
      "text/plain": [
       "'\\n# Loop over all dev points:\\nimport warnings\\nwarnings.filterwarnings(\"ignore\")\\n\\nexact_ks = []\\nfor test_idx in range(X[\"dev\"].shape[0]):\\n    k =exact_k(test_idx)\\n    print(test_idx, k)\\n    exact_ks.append(k)\\n\\nexact_ks=np.array(exact_ks)\\nnp.save(\"exact_ks_IP.npy\", exact_ks)\\n'"
      ]
     },
     "execution_count": 35,
     "metadata": {},
     "output_type": "execute_result"
    }
   ],
   "source": [
    "\"\"\"\n",
    "# Loop over all dev points:\n",
    "import warnings\n",
    "warnings.filterwarnings(\"ignore\")\n",
    "\n",
    "exact_ks = []\n",
    "for test_idx in range(X[\"dev\"].shape[0]):\n",
    "    k =exact_k(test_idx)\n",
    "    print(test_idx, k)\n",
    "    exact_ks.append(k)\n",
    "\n",
    "exact_ks=np.array(exact_ks)\n",
    "np.save(\"exact_ks_IP.npy\", exact_ks)\n",
    "\"\"\""
   ]
  },
  {
   "cell_type": "markdown",
   "id": "92c268f9",
   "metadata": {},
   "source": [
    "# Find approximate k by IF"
   ]
  },
  {
   "cell_type": "code",
   "execution_count": 36,
   "id": "d881d752",
   "metadata": {},
   "outputs": [],
   "source": [
    "def pred_change(k, scores, test_idx):\n",
    "    X_k, y_k, prediction = Remove(k, delta_pred, test_idx)\n",
    "    "
   ]
  },
  {
   "cell_type": "code",
   "execution_count": 37,
   "id": "eeda6ab2",
   "metadata": {},
   "outputs": [],
   "source": [
    "def approximate_k(test_idx):\n",
    "    old = pred[test_idx].item()\n",
    "    for k in range(1, X[\"train\"].shape[0]):\n",
    "        _, _, change = Remove(k, delta_pred, test_idx)\n",
    "        \n",
    "        #new_train(k, test_idx, delta_pred)\n",
    "        #print(\"cahnge\", change)\n",
    "        if change == None:\n",
    "            return None\n",
    "        \n",
    "        if old > 0.25 and old + change < 0.25:\n",
    "            print(\"prediction\", change)\n",
    "            return k\n",
    "        elif old < 0.25 and old + change > 0.25:\n",
    "            print(\"prediction\", change)\n",
    "            return k\n",
    "        \n",
    "    return None"
   ]
  },
  {
   "cell_type": "code",
   "execution_count": 38,
   "id": "35816649",
   "metadata": {},
   "outputs": [
    {
     "name": "stdout",
     "output_type": "stream",
     "text": [
      "prediction 0.12161116868390248\n",
      "0 64\n",
      "old [0.12870375] new 0.2465756815890714\n",
      "\n",
      "prediction 0.17190194535628828\n",
      "3 301\n",
      "old [0.0782902] new 0.9924007062661724\n",
      "\n",
      "prediction 0.17262269911073874\n",
      "4 421\n",
      "old [0.07740151] new 0.9840086773697108\n",
      "\n",
      "prediction 0.14398285992259247\n",
      "5 257\n",
      "old [0.10602201] new 0.7526383189003227\n",
      "\n",
      "prediction 0.04933598791316301\n",
      "6 24\n",
      "old [0.20135129] new 0.21900515295262846\n",
      "\n",
      "prediction -0.04333015503211627\n",
      "8 5\n",
      "old [0.29092613] new 0.3216703833220703\n",
      "\n",
      "prediction 0.19812322769861646\n",
      "11 2120\n",
      "old [0.05187755] new 0.9999975307713955\n",
      "\n",
      "prediction 0.030022805857915398\n",
      "12 15\n",
      "old [0.22092318] new 0.3656453433295159\n",
      "\n",
      "prediction 0.15746318765892553\n",
      "13 306\n",
      "old [0.09272507] new 0.9116961570613672\n",
      "\n",
      "prediction -0.36760736636660685\n",
      "15 196\n",
      "old [0.61724166] new 0.07875444192825065\n",
      "\n",
      "prediction 0.10615397899218555\n",
      "16 93\n",
      "old [0.14434841] new 0.5157814335406795\n",
      "\n",
      "prediction 0.20436979008865036\n",
      "17 2726\n",
      "old [0.04563932] new 0.9999999817038746\n",
      "\n",
      "prediction 0.18267294392862918\n",
      "18 532\n",
      "old [0.06744122] new 0.9974274182167248\n",
      "\n",
      "prediction 0.07398812988911066\n",
      "22 45\n",
      "old [0.17635012] new 0.39544511270522836\n",
      "\n",
      "prediction -0.1813059099722128\n",
      "23 56\n",
      "old [0.43124199] new 0.2026136102714828\n",
      "\n",
      "prediction 0.06718160821047223\n",
      "24 42\n",
      "old [0.18336406] new 0.4591644729124788\n",
      "\n",
      "prediction -0.021337833399493092\n",
      "27 3\n",
      "old [0.27008461] new 0.267146612720148\n",
      "\n",
      "prediction -0.21360342548906763\n",
      "29 27\n",
      "old [0.45935775] new 0.3029899593808045\n",
      "\n",
      "prediction 0.18630477940649107\n",
      "30 877\n",
      "old [0.06370308] new 0.9994960881108702\n",
      "\n",
      "prediction 0.17931510081774463\n",
      "31 1112\n",
      "old [0.0707225] new 0.9993041065123333\n",
      "\n",
      "prediction -0.11290429814118964\n",
      "35 17\n",
      "old [0.36001358] new 0.14312442915029275\n",
      "\n",
      "prediction 0.20307247126052327\n",
      "36 3616\n",
      "old [0.04693009] new 0.9999999970345756\n",
      "\n",
      "prediction 0.18633125178293675\n",
      "37 976\n",
      "old [0.06367198] new 0.999404012458046\n",
      "\n",
      "prediction 0.0849000322221695\n",
      "39 62\n",
      "old [0.16573151] new 0.5069740829617134\n",
      "\n",
      "prediction 0.12961078935832265\n",
      "42 188\n",
      "old [0.12066168] new 0.8049729016460184\n",
      "\n",
      "prediction 0.19191596229096505\n",
      "44 1175\n",
      "old [0.05811742] new 0.9998657899474234\n",
      "\n",
      "prediction 0.19194505282241112\n",
      "47 1086\n",
      "old [0.05805677] new 0.9999240320012274\n",
      "\n",
      "prediction 0.06810586638423304\n",
      "48 48\n",
      "old [0.18237121] new 0.5326108500466552\n",
      "\n",
      "prediction 0.15259662095648896\n",
      "49 415\n",
      "old [0.09754438] new 0.8129597828972639\n",
      "\n",
      "prediction -0.10811845669602235\n",
      "51 15\n",
      "old [0.35658426] new 0.2196201303157896\n",
      "\n",
      "prediction 0.19905651023223017\n",
      "52 879\n",
      "old [0.05095929] new 0.9999959204972988\n",
      "\n",
      "prediction 0.15781133118789242\n",
      "57 369\n",
      "old [0.09221415] new 0.9581786112332606\n",
      "\n",
      "prediction -0.02483058488940445\n",
      "59 5\n",
      "old [0.27366643] new 0.31068354677043525\n",
      "\n",
      "prediction 0.20005522104684015\n",
      "61 2872\n",
      "old [0.04994833] new 0.9999998083707436\n",
      "\n"
     ]
    },
    {
     "ename": "KeyboardInterrupt",
     "evalue": "",
     "output_type": "error",
     "traceback": [
      "\u001b[0;31m---------------------------------------------------------------------------\u001b[0m",
      "\u001b[0;31mKeyboardInterrupt\u001b[0m                         Traceback (most recent call last)",
      "Input \u001b[0;32mIn [38]\u001b[0m, in \u001b[0;36m<cell line: 7>\u001b[0;34m()\u001b[0m\n\u001b[1;32m      6\u001b[0m new_predictions \u001b[38;5;241m=\u001b[39m []\n\u001b[1;32m      7\u001b[0m \u001b[38;5;28;01mfor\u001b[39;00m test_idx \u001b[38;5;129;01min\u001b[39;00m \u001b[38;5;28mrange\u001b[39m(X[\u001b[38;5;124m\"\u001b[39m\u001b[38;5;124mdev\u001b[39m\u001b[38;5;124m\"\u001b[39m]\u001b[38;5;241m.\u001b[39mshape[\u001b[38;5;241m0\u001b[39m]):\n\u001b[0;32m----> 8\u001b[0m     appro_k \u001b[38;5;241m=\u001b[39m \u001b[43mapproximate_k\u001b[49m\u001b[43m(\u001b[49m\u001b[43mtest_idx\u001b[49m\u001b[43m)\u001b[49m\n\u001b[1;32m      9\u001b[0m     \u001b[38;5;28;01mif\u001b[39;00m appro_k \u001b[38;5;241m!=\u001b[39m \u001b[38;5;28;01mNone\u001b[39;00m:\n\u001b[1;32m     10\u001b[0m         _, _, _, new_prediction \u001b[38;5;241m=\u001b[39m new_train(appro_k, test_idx, delta_pred)\n",
      "Input \u001b[0;32mIn [37]\u001b[0m, in \u001b[0;36mapproximate_k\u001b[0;34m(test_idx)\u001b[0m\n\u001b[1;32m      2\u001b[0m old \u001b[38;5;241m=\u001b[39m pred[test_idx]\u001b[38;5;241m.\u001b[39mitem()\n\u001b[1;32m      3\u001b[0m \u001b[38;5;28;01mfor\u001b[39;00m k \u001b[38;5;129;01min\u001b[39;00m \u001b[38;5;28mrange\u001b[39m(\u001b[38;5;241m1\u001b[39m, X[\u001b[38;5;124m\"\u001b[39m\u001b[38;5;124mtrain\u001b[39m\u001b[38;5;124m\"\u001b[39m]\u001b[38;5;241m.\u001b[39mshape[\u001b[38;5;241m0\u001b[39m]):\n\u001b[0;32m----> 4\u001b[0m     _, _, change \u001b[38;5;241m=\u001b[39m \u001b[43mRemove\u001b[49m\u001b[43m(\u001b[49m\u001b[43mk\u001b[49m\u001b[43m,\u001b[49m\u001b[43m \u001b[49m\u001b[43mdelta_pred\u001b[49m\u001b[43m,\u001b[49m\u001b[43m \u001b[49m\u001b[43mtest_idx\u001b[49m\u001b[43m)\u001b[49m\n\u001b[1;32m      6\u001b[0m     \u001b[38;5;66;03m#new_train(k, test_idx, delta_pred)\u001b[39;00m\n\u001b[1;32m      7\u001b[0m     \u001b[38;5;66;03m#print(\"cahnge\", change)\u001b[39;00m\n\u001b[1;32m      8\u001b[0m     \u001b[38;5;28;01mif\u001b[39;00m change \u001b[38;5;241m==\u001b[39m \u001b[38;5;28;01mNone\u001b[39;00m:\n",
      "Input \u001b[0;32mIn [32]\u001b[0m, in \u001b[0;36mRemove\u001b[0;34m(k, scores, test_idx)\u001b[0m\n\u001b[1;32m      9\u001b[0m \u001b[38;5;28;01melse\u001b[39;00m:\n\u001b[1;32m     10\u001b[0m     top_k_index \u001b[38;5;241m=\u001b[39m scores[test_idx]\u001b[38;5;241m.\u001b[39margsort()[:k]\n\u001b[0;32m---> 12\u001b[0m X_k \u001b[38;5;241m=\u001b[39m \u001b[43mnp\u001b[49m\u001b[38;5;241;43m.\u001b[39;49m\u001b[43mdelete\u001b[49m\u001b[43m(\u001b[49m\u001b[43mX\u001b[49m\u001b[43m[\u001b[49m\u001b[38;5;124;43m\"\u001b[39;49m\u001b[38;5;124;43mtrain\u001b[39;49m\u001b[38;5;124;43m\"\u001b[39;49m\u001b[43m]\u001b[49m\u001b[43m,\u001b[49m\u001b[43m \u001b[49m\u001b[43mtop_k_index\u001b[49m\u001b[43m,\u001b[49m\u001b[43m \u001b[49m\u001b[43maxis\u001b[49m\u001b[38;5;241;43m=\u001b[39;49m\u001b[38;5;241;43m0\u001b[39;49m\u001b[43m)\u001b[49m\n\u001b[1;32m     13\u001b[0m y_k \u001b[38;5;241m=\u001b[39m np\u001b[38;5;241m.\u001b[39mdelete(y[\u001b[38;5;124m\"\u001b[39m\u001b[38;5;124mtrain\u001b[39m\u001b[38;5;124m\"\u001b[39m], top_k_index, axis\u001b[38;5;241m=\u001b[39m\u001b[38;5;241m0\u001b[39m)\n\u001b[1;32m     16\u001b[0m prediction \u001b[38;5;241m=\u001b[39m \u001b[38;5;241m-\u001b[39mnp\u001b[38;5;241m.\u001b[39msum(scores[test_idx][top_k_index])\n",
      "File \u001b[0;32m<__array_function__ internals>:5\u001b[0m, in \u001b[0;36mdelete\u001b[0;34m(*args, **kwargs)\u001b[0m\n",
      "File \u001b[0;32m/opt/anaconda3/envs/torch/lib/python3.8/site-packages/numpy/lib/function_base.py:4409\u001b[0m, in \u001b[0;36mdelete\u001b[0;34m(arr, obj, axis)\u001b[0m\n\u001b[1;32m   4406\u001b[0m         keep[obj,] \u001b[38;5;241m=\u001b[39m \u001b[38;5;28;01mFalse\u001b[39;00m\n\u001b[1;32m   4408\u001b[0m     slobj[axis] \u001b[38;5;241m=\u001b[39m keep\n\u001b[0;32m-> 4409\u001b[0m     new \u001b[38;5;241m=\u001b[39m \u001b[43marr\u001b[49m\u001b[43m[\u001b[49m\u001b[38;5;28;43mtuple\u001b[39;49m\u001b[43m(\u001b[49m\u001b[43mslobj\u001b[49m\u001b[43m)\u001b[49m\u001b[43m]\u001b[49m\n\u001b[1;32m   4411\u001b[0m \u001b[38;5;28;01mif\u001b[39;00m wrap:\n\u001b[1;32m   4412\u001b[0m     \u001b[38;5;28;01mreturn\u001b[39;00m wrap(new)\n",
      "\u001b[0;31mKeyboardInterrupt\u001b[0m: "
     ]
    }
   ],
   "source": [
    "# Loop over all dev points:\n",
    "import warnings\n",
    "warnings.filterwarnings(\"ignore\")\n",
    "\n",
    "appro_ks = []\n",
    "new_predictions = []\n",
    "for test_idx in range(X[\"dev\"].shape[0]):\n",
    "    appro_k = approximate_k(test_idx)\n",
    "    if appro_k != None:\n",
    "        _, _, _, new_prediction = new_train(appro_k, test_idx, delta_pred)\n",
    "        print(test_idx, appro_k)\n",
    "        print(\"old\", pred[test_idx], \"new\", new_prediction)\n",
    "        print()\n",
    "        appro_ks.append(appro_k)\n",
    "        new_predictions.append(new_prediction)\n",
    "    else:\n",
    "        appro_ks.append(None)\n",
    "        new_predictions.append(None)\n",
    "\n"
   ]
  },
  {
   "cell_type": "code",
   "execution_count": null,
   "id": "6add0b37",
   "metadata": {},
   "outputs": [],
   "source": [
    "appro_ks= np.array(appro_ks)\n",
    "new_predictions=np.array(new_predictions)\n",
    "np.save(\"appro_ks_IP.npy\", appro_ks)\n",
    "np.save(\"new_predictions.npy\", new_predictions)\n",
    "np.save(\"old_predictions.npy\", pred)"
   ]
  },
  {
   "cell_type": "markdown",
   "id": "d36a59c1",
   "metadata": {},
   "source": [
    "# Difference of change and prediction when k increasing"
   ]
  },
  {
   "cell_type": "code",
   "execution_count": null,
   "id": "d8f1d4af",
   "metadata": {},
   "outputs": [],
   "source": [
    "\"\"\"\n",
    "row = len(list(range(0, X[\"dev\"].shape[0])))\n",
    "col = len(list(range(1, np.sum(y[\"train\"]))))\n",
    "changes = np.zeros((row, col))\n",
    "prediction = np.zeros((row, col))\n",
    "\n",
    "import warnings\n",
    "warnings.filterwarnings(\"ignore\")\n",
    "for i in range(0, X[\"dev\"].shape[0]):\n",
    "    print(i)\n",
    "    for j in range(1, np.sum(y[\"train\"]):\n",
    "        changes[i, j-1], _, prediction[i, j-1] = new_train(j, i, delta_pred)\n",
    "        \n",
    "   \n",
    "np.save(\"pred_change_app.npy\", prediction)\n",
    "np.save(\"changes.npy\", changes)\n",
    "\n",
    "difference = prediction - changes\n",
    "np.save(\"difference_k_appk.npy\", difference)\n",
    "\"\"\""
   ]
  },
  {
   "cell_type": "code",
   "execution_count": 82,
   "id": "f26aff77",
   "metadata": {},
   "outputs": [
    {
     "data": {
      "text/plain": [
       "'/Users/eciel/Desktop/y3s2_sum/orf/summer/privacy_methods/BERT/Bert_SST/Bert_linear_emo'"
      ]
     },
     "execution_count": 82,
     "metadata": {},
     "output_type": "execute_result"
    }
   ],
   "source": [
    "pwd"
   ]
  },
  {
   "cell_type": "code",
   "execution_count": null,
   "id": "22573426",
   "metadata": {},
   "outputs": [],
   "source": []
  }
 ],
 "metadata": {
  "kernelspec": {
   "display_name": "Python 3 (ipykernel)",
   "language": "python",
   "name": "python3"
  },
  "language_info": {
   "codemirror_mode": {
    "name": "ipython",
    "version": 3
   },
   "file_extension": ".py",
   "mimetype": "text/x-python",
   "name": "python",
   "nbconvert_exporter": "python",
   "pygments_lexer": "ipython3",
   "version": "3.9.11"
  }
 },
 "nbformat": 4,
 "nbformat_minor": 5
}
