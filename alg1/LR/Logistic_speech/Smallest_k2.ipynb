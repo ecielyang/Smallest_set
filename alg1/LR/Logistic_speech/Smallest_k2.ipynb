{
 "cells": [
  {
   "cell_type": "code",
   "execution_count": 1,
   "id": "ab6ef9a7",
   "metadata": {},
   "outputs": [],
   "source": [
    "import numpy as np\n",
    "import warnings\n",
    "warnings.filterwarnings(\"ignore\")\n",
    "X = {}\n",
    "y = {}\n",
    "X[\"train\"] = np.load(\"X_train.npy\")\n",
    "y[\"train\"] = np.load(\"y_train.npy\")\n",
    "X[\"dev\"] = np.load(\"X_dev.npy\")\n",
    "y[\"dev\"] = np.load(\"y_dev.npy\")"
   ]
  },
  {
   "cell_type": "code",
   "execution_count": 2,
   "id": "ee506a1a",
   "metadata": {},
   "outputs": [
    {
     "data": {
      "text/plain": [
       "((9632, 300), (1071, 300))"
      ]
     },
     "execution_count": 2,
     "metadata": {},
     "output_type": "execute_result"
    }
   ],
   "source": [
    "X[\"train\"].shape, X[\"dev\"].shape"
   ]
  },
  {
   "cell_type": "code",
   "execution_count": 3,
   "id": "fdbd82a4",
   "metadata": {},
   "outputs": [
    {
     "data": {
      "text/plain": [
       "0.1117443707371765"
      ]
     },
     "execution_count": 3,
     "metadata": {},
     "output_type": "execute_result"
    }
   ],
   "source": [
    "(np.sum(y[\"train\"]) + np.sum(y[\"dev\"]))/(X[\"train\"].shape[0] + X[\"dev\"].shape[0])"
   ]
  },
  {
   "cell_type": "code",
   "execution_count": 4,
   "id": "8a69b5d0",
   "metadata": {},
   "outputs": [
    {
     "data": {
      "text/plain": [
       "0.8860877684407096"
      ]
     },
     "execution_count": 4,
     "metadata": {},
     "output_type": "execute_result"
    }
   ],
   "source": [
    "from sklearn.linear_model import LogisticRegression\n",
    "l2 = 10\n",
    "model = LogisticRegression(penalty='l2', C=1/l2)\n",
    "model.fit(X[\"train\"], y[\"train\"])\n",
    "pred = np.reshape(model.predict_proba(X[\"dev\"])[:, 1], (model.predict_proba(X[\"dev\"])[:, 1].shape[0], 1))\n",
    "model.score(X[\"dev\"], y[\"dev\"])"
   ]
  },
  {
   "cell_type": "code",
   "execution_count": 5,
   "id": "a111946e",
   "metadata": {},
   "outputs": [],
   "source": [
    "np.save(\"old_predictions.npy\", pred)"
   ]
  },
  {
   "cell_type": "code",
   "execution_count": 6,
   "id": "694d00d8",
   "metadata": {},
   "outputs": [
    {
     "name": "stdout",
     "output_type": "stream",
     "text": [
      "0.3964757709251101\n",
      "              precision    recall  f1-score   support\n",
      "\n",
      "           0       0.92      0.93      0.93       953\n",
      "           1       0.41      0.38      0.40       118\n",
      "\n",
      "    accuracy                           0.87      1071\n",
      "   macro avg       0.67      0.66      0.66      1071\n",
      "weighted avg       0.87      0.87      0.87      1071\n",
      "\n"
     ]
    }
   ],
   "source": [
    "import sklearn.metrics as mc\n",
    "mc.f1_score(y[\"dev\"], np.round(pred))\n",
    "# change threshold\n",
    "threshold = 0.25\n",
    "decisions = (pred >= threshold).astype(int)\n",
    "print(mc.f1_score(np.reshape(y[\"dev\"], (1071, 1)), decisions))\n",
    "print(mc.classification_report(np.reshape(y[\"dev\"], (1071, 1)), decisions))"
   ]
  },
  {
   "cell_type": "code",
   "execution_count": 16,
   "id": "f71d7c49",
   "metadata": {},
   "outputs": [
    {
     "data": {
      "text/plain": [
       "0.8137994202073737"
      ]
     },
     "execution_count": 16,
     "metadata": {},
     "output_type": "execute_result"
    }
   ],
   "source": [
    "fpr, tpr, thresholds = mc.roc_curve(y[\"dev\"], pred)\n",
    "mc.auc(fpr, tpr)"
   ]
  },
  {
   "cell_type": "code",
   "execution_count": 17,
   "id": "5fc4eb6d",
   "metadata": {},
   "outputs": [],
   "source": [
    "import pandas as pd\n",
    "import sklearn.metrics as metrics"
   ]
  },
  {
   "cell_type": "code",
   "execution_count": 18,
   "id": "14bc6d04",
   "metadata": {},
   "outputs": [
    {
     "data": {
      "text/plain": [
       "((9632, 301), (1071, 301))"
      ]
     },
     "execution_count": 18,
     "metadata": {},
     "output_type": "execute_result"
    }
   ],
   "source": [
    "w = np.concatenate((model.coef_, model.intercept_[None, :]), axis=1)\n",
    "F_train = np.concatenate([X[\"train\"], np.ones((X[\"train\"].shape[0], 1))], axis=1) # Concatenating one to calculate the gradient with respect to intercept\n",
    "F_dev = np.concatenate([X[\"dev\"], np.ones((X[\"dev\"].shape[0], 1))], axis=1)\n",
    "\n",
    "error_train = model.predict_proba(X[\"train\"])[:, 1] - y[\"train\"]\n",
    "error_dev = model.predict_proba(X[\"dev\"])[:, 1] - y[\"dev\"]\n",
    "\n",
    "gradient_train = F_train * error_train[:, None]\n",
    "gradient_dev = F_dev * error_dev[:, None]\n",
    "g = np.sum(gradient_train, axis=0) / 6920\n",
    "gradient_train.shape, gradient_dev.shape"
   ]
  },
  {
   "cell_type": "code",
   "execution_count": 19,
   "id": "9422447c",
   "metadata": {},
   "outputs": [],
   "source": [
    "## from scipy import sparse\n",
    "probs = model.predict_proba(X[\"train\"])[:, 1]\n",
    "hessian = F_train.T @ np.diag(probs * (1 - probs)) @ F_train / X[\"train\"].shape[0] +  10* np.eye(F_train.shape[1]) / X[\"train\"].shape[0]\n",
    "inverse_hessian = np.linalg.inv(hessian)"
   ]
  },
  {
   "cell_type": "code",
   "execution_count": 20,
   "id": "c863366c",
   "metadata": {},
   "outputs": [
    {
     "data": {
      "text/plain": [
       "(1071, 9632)"
      ]
     },
     "execution_count": 20,
     "metadata": {},
     "output_type": "execute_result"
    }
   ],
   "source": [
    "eps = 1 / X[\"train\"].shape[0]\n",
    "delta_k = -eps * inverse_hessian @ gradient_train.T\n",
    "grad_f = F_dev * (pred * (1 - pred))\n",
    "delta_pred = grad_f @ delta_k\n",
    "delta_pred.shape"
   ]
  },
  {
   "cell_type": "code",
   "execution_count": 21,
   "id": "6610c4ea",
   "metadata": {},
   "outputs": [],
   "source": [
    "def Remove(k, scores, test_idx):\n",
    "    #print(\"test_idx\", test_idx)\n",
    "    #print(\"old\")\n",
    "    #print(pred[test_idx])\n",
    "    #print(\"k\", k)\n",
    "    \n",
    "    if pred[test_idx] > 0.25:\n",
    "        top_k_index = scores[test_idx].argsort()[-k:]\n",
    "    else:\n",
    "        top_k_index = scores[test_idx].argsort()[:k]\n",
    "\n",
    "    X_k = np.delete(X[\"train\"], top_k_index, axis=0)\n",
    "    y_k = np.delete(y[\"train\"], top_k_index, axis=0)\n",
    "\n",
    "        \n",
    "    prediction = -np.sum(scores[test_idx][top_k_index])\n",
    "    \n",
    "    \n",
    "    #print(\"prediction\", prediction)\n",
    "\n",
    "    return X_k, y_k, prediction"
   ]
  },
  {
   "cell_type": "code",
   "execution_count": 22,
   "id": "9be5e544",
   "metadata": {},
   "outputs": [],
   "source": [
    "def new_train(k, dev_index, scores):\n",
    "    X_k, y_k, prediction = Remove(k, scores, dev_index)\n",
    "    if y_k.shape[0] == np.sum(y_k) or np.sum(y_k) == 0: # data contains only one class: 1\n",
    "        return None, None, None, None\n",
    "\n",
    "    # Fit the model again\n",
    "    model_k = LogisticRegression(penalty='l2', C=0.1)\n",
    "    model_k.fit(X_k, y_k)\n",
    "\n",
    "    # predictthe probaility with test point\n",
    "    test_point = X[\"dev\"][dev_index]\n",
    "    test_point=np.reshape(test_point, (1,-1))\n",
    "    new = model_k.predict_proba(test_point)[0][1]\n",
    "\n",
    "    change = -(model.predict_proba(test_point)[0][1] - model_k.predict_proba(test_point)[0][1])\n",
    "    #change = model_k.predict_proba(test_point)[0][1]-model.predict_proba(test_point)[0][1]\n",
    "    flip = ((model.predict(test_point)>0.25) == (model_k.predict(test_point)>0.25))\n",
    "    \n",
    "    \n",
    "    #print(\"change    \", change)\n",
    "    #print(\"old       \", model.predict_proba(test_point)[0][1])\n",
    "    #print()\n",
    "    \n",
    "    \n",
    "    \n",
    "  \n",
    "    return change, flip, prediction, new"
   ]
  },
  {
   "cell_type": "markdown",
   "id": "92c268f9",
   "metadata": {},
   "source": [
    "# Find approximate k by IF"
   ]
  },
  {
   "cell_type": "code",
   "execution_count": 23,
   "id": "d881d752",
   "metadata": {},
   "outputs": [],
   "source": [
    "def pred_change(k, scores, test_idx):\n",
    "    X_k, y_k, prediction = Remove(k, delta_pred, test_idx)\n",
    "    "
   ]
  },
  {
   "cell_type": "code",
   "execution_count": 24,
   "id": "eeda6ab2",
   "metadata": {},
   "outputs": [],
   "source": [
    "def approximate_k(test_idx):\n",
    "    old = pred[test_idx].item()\n",
    "    for k in range(1, X[\"train\"].shape[0]):\n",
    "        _, _, change = Remove(k, delta_pred, test_idx)\n",
    "        \n",
    "        #new_train(k, test_idx, delta_pred)\n",
    "        #print(\"cahnge\", change)\n",
    "        if change == None:\n",
    "            return None\n",
    "        \n",
    "        if old > 0.25 and old + change < 0.25:\n",
    "            print(\"prediction\", change)\n",
    "            return k\n",
    "        elif old < 0.25 and old + change > 0.25:\n",
    "            print(\"prediction\", change)\n",
    "            return k\n",
    "        \n",
    "    return None"
   ]
  },
  {
   "cell_type": "code",
   "execution_count": 25,
   "id": "df3f6d51",
   "metadata": {},
   "outputs": [
    {
     "name": "stdout",
     "output_type": "stream",
     "text": [
      "prediction 0.197407241333675\n",
      "0 2191 [0.05260323] 0.9510751775888799\n",
      "\n",
      "prediction -0.20302789052492853\n",
      "1 24 [0.44794801] 0.2520871896231084\n",
      "\n",
      "2 None [0.00101895] None\n",
      "\n",
      "3 None [0.07037846] None\n",
      "\n",
      "prediction -0.20555427937712567\n",
      "4 72 [0.45548376] 0.24790828802253426\n",
      "\n",
      "prediction 0.045537691639109354\n",
      "5 19 [0.20574632] 0.26783074581244215\n",
      "\n",
      "prediction -0.01462468213105016\n",
      "6 3 [0.26273143] 0.2478696576025324\n",
      "\n",
      "prediction 0.14281452727356933\n",
      "7 518 [0.10732156] 0.48609391096033705\n",
      "\n",
      "prediction 0.09205696916809278\n",
      "8 237 [0.1580026] 0.317757677692976\n",
      "\n",
      "9 None [0.04240677] None\n",
      "\n",
      "prediction 0.15273232940036094\n",
      "10 904 [0.09728552] 0.5709582667191523\n",
      "\n",
      "prediction 0.1544020645701336\n",
      "11 907 [0.09565065] 0.6750157915132654\n",
      "\n",
      "prediction 0.07328645368791312\n",
      "12 118 [0.17704108] 0.27509530163043494\n",
      "\n",
      "prediction 0.10878990736715012\n",
      "13 269 [0.14141457] 0.3341814978304452\n",
      "\n",
      "prediction 0.16884999432859985\n",
      "14 665 [0.08121635] 0.5562393136645656\n",
      "\n",
      "prediction -0.15986787828811605\n",
      "15 70 [0.4087051] 0.2448681252192257\n",
      "\n",
      "prediction -0.0810704800311215\n",
      "16 31 [0.33026521] 0.25019150963533\n",
      "\n",
      "prediction 0.11608705560375798\n",
      "17 145 [0.13403037] 0.3307960179170907\n",
      "\n",
      "prediction 0.19273802948382418\n",
      "18 4568 [0.05726211] 0.9959515911547399\n",
      "\n",
      "19 None [0.06300467] None\n",
      "\n",
      "20 None [0.01759] None\n",
      "\n",
      "21 None [0.05118449] None\n",
      "\n",
      "prediction 0.06963359995475284\n",
      "22 51 [0.18042051] 0.26841005614783486\n",
      "\n",
      "prediction -0.1627170063284543\n",
      "23 79 [0.41212638] 0.2475603234788225\n",
      "\n",
      "prediction 0.111294912953965\n",
      "24 155 [0.13915636] 0.3330060181936758\n",
      "\n",
      "prediction 0.1731563298615133\n",
      "25 4314 [0.0768493] 0.9362814730143191\n",
      "\n",
      "prediction 0.19575702314927276\n",
      "26 1830 [0.05427036] 0.9728862559755556\n",
      "\n",
      "27 None [0.09433291] None\n",
      "\n",
      "prediction 0.17708619125670447\n",
      "28 1326 [0.07295777] 0.8407310045284822\n",
      "\n",
      "prediction 0.11667488333446135\n",
      "29 269 [0.13356887] 0.35506335908925324\n",
      "\n",
      "prediction 0.1358607270295364\n",
      "30 901 [0.11417995] 0.4789306876410829\n",
      "\n",
      "31 None [0.04897925] None\n",
      "\n",
      "prediction 0.1659922295103114\n",
      "32 2845 [0.08400803] 0.8633497062775541\n",
      "\n",
      "33 None [0.03732838] None\n",
      "\n",
      "34 None [0.05181299] None\n",
      "\n",
      "prediction 0.09532429591592935\n",
      "35 192 [0.15468926] 0.3023838671678408\n",
      "\n",
      "36 None [0.03060311] None\n",
      "\n",
      "prediction 0.14388345613650624\n",
      "37 336 [0.10633236] 0.4769291550372496\n",
      "\n",
      "38 None [0.06793743] None\n",
      "\n",
      "prediction 0.13058305823366276\n",
      "39 847 [0.11943415] 0.4167264858702238\n",
      "\n",
      "40 None [0.00897588] None\n",
      "\n",
      "41 None [0.06295061] None\n",
      "\n",
      "prediction 0.11960921828211064\n",
      "42 232 [0.13059352] 0.38613520516265937\n",
      "\n",
      "prediction 0.18899293614970908\n",
      "43 4543 [0.06100876] 0.9964711881624759\n",
      "\n",
      "prediction 0.06003097992127355\n",
      "44 49 [0.19037807] 0.26514146050030213\n",
      "\n",
      "prediction 0.15191121721513634\n",
      "45 426 [0.09821059] 0.4791406044440147\n",
      "\n",
      "46 None [0.03714543] None\n",
      "\n",
      "prediction -0.04372163056470718\n",
      "47 15 [0.29316514] 0.2491076957506376\n",
      "\n",
      "prediction 0.05975143174971765\n",
      "48 49 [0.19062273] 0.2680425089686998\n",
      "\n",
      "prediction -0.007302254667924007\n",
      "49 2 [0.25477426] 0.24752026240209582\n",
      "\n",
      "prediction 0.1971087795851797\n",
      "50 1130 [0.05291714] 0.9532110801193934\n",
      "\n",
      "prediction 0.12528736113100458\n",
      "51 809 [0.12477011] 0.4230064963965851\n",
      "\n",
      "prediction 0.16344557769554038\n",
      "52 1274 [0.08655585] 0.6283510764150233\n",
      "\n",
      "53 None [0.04024615] None\n",
      "\n",
      "prediction 0.11493823869825838\n",
      "54 117 [0.13569257] 0.3359136957694615\n",
      "\n",
      "55 None [0.01298647] None\n",
      "\n",
      "56 None [0.03528359] None\n",
      "\n",
      "prediction 0.021652401176040663\n",
      "57 13 [0.22838767] 0.25443105372198516\n",
      "\n",
      "prediction 0.14079432397895353\n",
      "58 285 [0.10928321] 0.4075002177561436\n",
      "\n",
      "prediction 0.13914701564483378\n",
      "59 884 [0.11085344] 0.5585975982387269\n",
      "\n",
      "prediction 0.13859254467822296\n",
      "60 513 [0.11141272] 0.4175034395883217\n",
      "\n",
      "61 None [0.03390549] None\n",
      "\n",
      "prediction 0.1868508341801879\n",
      "62 1985 [0.06317702] 0.9380728896764874\n",
      "\n",
      "63 None [0.03020701] None\n",
      "\n",
      "64 None [0.04786363] None\n",
      "\n",
      "prediction 0.16582146054574295\n",
      "65 1051 [0.08422056] 0.6927257864290476\n",
      "\n",
      "66 None [0.01012114] None\n",
      "\n",
      "prediction 0.1641240613590982\n",
      "67 240 [0.08599162] 0.5261935677629559\n",
      "\n",
      "prediction 0.18606320238875637\n",
      "68 4784 [0.06394057] 0.9795317027337686\n",
      "\n",
      "prediction 0.16300034793992935\n",
      "69 797 [0.08704978] 0.6119648959314279\n",
      "\n",
      "prediction 0.16112516236236796\n",
      "70 1011 [0.08894124] 0.6361072583053818\n",
      "\n",
      "71 None [0.02210715] None\n",
      "\n",
      "prediction 0.1842089900017973\n",
      "72 1846 [0.06581893] 0.8542657052531515\n",
      "\n",
      "prediction 0.16899026756663071\n",
      "73 1912 [0.08101025] 0.7859434800581977\n",
      "\n",
      "74 None [0.03780794] None\n",
      "\n",
      "prediction -0.2140044075658762\n",
      "75 73 [0.46258257] 0.2454016288546159\n",
      "\n",
      "prediction 0.0780312590320726\n",
      "76 154 [0.17213931] 0.2864789771924124\n",
      "\n",
      "prediction -0.2107221576706726\n",
      "77 49 [0.45886724] 0.25258299100764525\n",
      "\n",
      "prediction 0.1439570483859655\n",
      "78 783 [0.10605557] 0.49677096886213634\n",
      "\n",
      "79 None [0.02548745] None\n",
      "\n",
      "80 None [0.0285397] None\n",
      "\n",
      "81 None [0.01204561] None\n",
      "\n",
      "prediction -0.08561340855283281\n",
      "82 31 [0.33461873] 0.2506743867227055\n",
      "\n",
      "prediction 0.1147459695535887\n",
      "83 509 [0.13528519] 0.3785388335869466\n",
      "\n",
      "prediction 0.14224650944448203\n",
      "84 431 [0.10777651] 0.47485360612248545\n",
      "\n",
      "85 None [0.03668183] None\n",
      "\n",
      "prediction 0.06866231011716094\n",
      "86 51 [0.18135149] 0.279213604227409\n",
      "\n",
      "prediction -0.0955473228853865\n",
      "87 35 [0.34339861] 0.2493214194533088\n",
      "\n",
      "prediction 0.05392729667598947\n",
      "88 15 [0.19713964] 0.2778831919796022\n",
      "\n",
      "prediction 0.13493942309191215\n",
      "89 234 [0.11506251] 0.4244027306901469\n",
      "\n",
      "90 None [0.04521413] None\n",
      "\n"
     ]
    },
    {
     "ename": "KeyboardInterrupt",
     "evalue": "",
     "output_type": "error",
     "traceback": [
      "\u001b[0;31m---------------------------------------------------------------------------\u001b[0m",
      "\u001b[0;31mKeyboardInterrupt\u001b[0m                         Traceback (most recent call last)",
      "Input \u001b[0;32mIn [25]\u001b[0m, in \u001b[0;36m<cell line: 6>\u001b[0;34m()\u001b[0m\n\u001b[1;32m      4\u001b[0m new_pred \u001b[38;5;241m=\u001b[39m np\u001b[38;5;241m.\u001b[39mzeros((X[\u001b[38;5;124m\"\u001b[39m\u001b[38;5;124mdev\u001b[39m\u001b[38;5;124m\"\u001b[39m]\u001b[38;5;241m.\u001b[39mshape[\u001b[38;5;241m0\u001b[39m], \u001b[38;5;241m1\u001b[39m))\n\u001b[1;32m      6\u001b[0m \u001b[38;5;28;01mfor\u001b[39;00m test_idx \u001b[38;5;129;01min\u001b[39;00m \u001b[38;5;28mrange\u001b[39m(X[\u001b[38;5;124m\"\u001b[39m\u001b[38;5;124mdev\u001b[39m\u001b[38;5;124m\"\u001b[39m]\u001b[38;5;241m.\u001b[39mshape[\u001b[38;5;241m0\u001b[39m]):\n\u001b[0;32m----> 7\u001b[0m     appro_k \u001b[38;5;241m=\u001b[39m \u001b[43mapproximate_k\u001b[49m\u001b[43m(\u001b[49m\u001b[43mtest_idx\u001b[49m\u001b[43m)\u001b[49m\n\u001b[1;32m      8\u001b[0m     appro_ks[test_idx] \u001b[38;5;241m=\u001b[39m appro_k\n\u001b[1;32m      9\u001b[0m     \u001b[38;5;28;01mif\u001b[39;00m appro_k \u001b[38;5;241m==\u001b[39m \u001b[38;5;28;01mNone\u001b[39;00m:\n",
      "Input \u001b[0;32mIn [24]\u001b[0m, in \u001b[0;36mapproximate_k\u001b[0;34m(test_idx)\u001b[0m\n\u001b[1;32m      2\u001b[0m old \u001b[38;5;241m=\u001b[39m pred[test_idx]\u001b[38;5;241m.\u001b[39mitem()\n\u001b[1;32m      3\u001b[0m \u001b[38;5;28;01mfor\u001b[39;00m k \u001b[38;5;129;01min\u001b[39;00m \u001b[38;5;28mrange\u001b[39m(\u001b[38;5;241m1\u001b[39m, X[\u001b[38;5;124m\"\u001b[39m\u001b[38;5;124mtrain\u001b[39m\u001b[38;5;124m\"\u001b[39m]\u001b[38;5;241m.\u001b[39mshape[\u001b[38;5;241m0\u001b[39m]):\n\u001b[0;32m----> 4\u001b[0m     _, _, change \u001b[38;5;241m=\u001b[39m \u001b[43mRemove\u001b[49m\u001b[43m(\u001b[49m\u001b[43mk\u001b[49m\u001b[43m,\u001b[49m\u001b[43m \u001b[49m\u001b[43mdelta_pred\u001b[49m\u001b[43m,\u001b[49m\u001b[43m \u001b[49m\u001b[43mtest_idx\u001b[49m\u001b[43m)\u001b[49m\n\u001b[1;32m      6\u001b[0m     \u001b[38;5;66;03m#new_train(k, test_idx, delta_pred)\u001b[39;00m\n\u001b[1;32m      7\u001b[0m     \u001b[38;5;66;03m#print(\"cahnge\", change)\u001b[39;00m\n\u001b[1;32m      8\u001b[0m     \u001b[38;5;28;01mif\u001b[39;00m change \u001b[38;5;241m==\u001b[39m \u001b[38;5;28;01mNone\u001b[39;00m:\n",
      "Input \u001b[0;32mIn [21]\u001b[0m, in \u001b[0;36mRemove\u001b[0;34m(k, scores, test_idx)\u001b[0m\n\u001b[1;32m      9\u001b[0m \u001b[38;5;28;01melse\u001b[39;00m:\n\u001b[1;32m     10\u001b[0m     top_k_index \u001b[38;5;241m=\u001b[39m scores[test_idx]\u001b[38;5;241m.\u001b[39margsort()[:k]\n\u001b[0;32m---> 12\u001b[0m X_k \u001b[38;5;241m=\u001b[39m \u001b[43mnp\u001b[49m\u001b[38;5;241;43m.\u001b[39;49m\u001b[43mdelete\u001b[49m\u001b[43m(\u001b[49m\u001b[43mX\u001b[49m\u001b[43m[\u001b[49m\u001b[38;5;124;43m\"\u001b[39;49m\u001b[38;5;124;43mtrain\u001b[39;49m\u001b[38;5;124;43m\"\u001b[39;49m\u001b[43m]\u001b[49m\u001b[43m,\u001b[49m\u001b[43m \u001b[49m\u001b[43mtop_k_index\u001b[49m\u001b[43m,\u001b[49m\u001b[43m \u001b[49m\u001b[43maxis\u001b[49m\u001b[38;5;241;43m=\u001b[39;49m\u001b[38;5;241;43m0\u001b[39;49m\u001b[43m)\u001b[49m\n\u001b[1;32m     13\u001b[0m y_k \u001b[38;5;241m=\u001b[39m np\u001b[38;5;241m.\u001b[39mdelete(y[\u001b[38;5;124m\"\u001b[39m\u001b[38;5;124mtrain\u001b[39m\u001b[38;5;124m\"\u001b[39m], top_k_index, axis\u001b[38;5;241m=\u001b[39m\u001b[38;5;241m0\u001b[39m)\n\u001b[1;32m     16\u001b[0m prediction \u001b[38;5;241m=\u001b[39m \u001b[38;5;241m-\u001b[39mnp\u001b[38;5;241m.\u001b[39msum(scores[test_idx][top_k_index])\n",
      "File \u001b[0;32m<__array_function__ internals>:5\u001b[0m, in \u001b[0;36mdelete\u001b[0;34m(*args, **kwargs)\u001b[0m\n",
      "File \u001b[0;32m/opt/anaconda3/lib/python3.9/site-packages/numpy/lib/function_base.py:4555\u001b[0m, in \u001b[0;36mdelete\u001b[0;34m(arr, obj, axis)\u001b[0m\n\u001b[1;32m   4552\u001b[0m         keep[obj,] \u001b[38;5;241m=\u001b[39m \u001b[38;5;28;01mFalse\u001b[39;00m\n\u001b[1;32m   4554\u001b[0m     slobj[axis] \u001b[38;5;241m=\u001b[39m keep\n\u001b[0;32m-> 4555\u001b[0m     new \u001b[38;5;241m=\u001b[39m \u001b[43marr\u001b[49m\u001b[43m[\u001b[49m\u001b[38;5;28;43mtuple\u001b[39;49m\u001b[43m(\u001b[49m\u001b[43mslobj\u001b[49m\u001b[43m)\u001b[49m\u001b[43m]\u001b[49m\n\u001b[1;32m   4557\u001b[0m \u001b[38;5;28;01mif\u001b[39;00m wrap:\n\u001b[1;32m   4558\u001b[0m     \u001b[38;5;28;01mreturn\u001b[39;00m wrap(new)\n",
      "\u001b[0;31mKeyboardInterrupt\u001b[0m: "
     ]
    }
   ],
   "source": [
    "# Loop over all dev points:\n",
    "\n",
    "appro_ks = np.zeros((X[\"dev\"].shape[0], 1))\n",
    "new_pred = np.zeros((X[\"dev\"].shape[0], 1))\n",
    "\n",
    "for test_idx in range(X[\"dev\"].shape[0]):\n",
    "    appro_k = approximate_k(test_idx)\n",
    "    appro_ks[test_idx] = appro_k\n",
    "    if appro_k == None:\n",
    "        new = None\n",
    "    else:\n",
    "        _, _ , _, new = new_train(appro_k, test_idx, delta_pred)\n",
    "    new_pred[test_idx] = new\n",
    "    print(test_idx, appro_k, pred[test_idx], new)\n",
    "    print()\n",
    "\n",
    "\n",
    "np.save(\"appro_ks.npy\", appro_ks)\n",
    "np.save(\"new_pred.npy\", new_pred)"
   ]
  },
  {
   "cell_type": "code",
   "execution_count": null,
   "id": "c13627b1",
   "metadata": {},
   "outputs": [],
   "source": []
  }
 ],
 "metadata": {
  "kernelspec": {
   "display_name": "Python 3 (ipykernel)",
   "language": "python",
   "name": "python3"
  },
  "language_info": {
   "codemirror_mode": {
    "name": "ipython",
    "version": 3
   },
   "file_extension": ".py",
   "mimetype": "text/x-python",
   "name": "python",
   "nbconvert_exporter": "python",
   "pygments_lexer": "ipython3",
   "version": "3.8.12"
  }
 },
 "nbformat": 4,
 "nbformat_minor": 5
}
