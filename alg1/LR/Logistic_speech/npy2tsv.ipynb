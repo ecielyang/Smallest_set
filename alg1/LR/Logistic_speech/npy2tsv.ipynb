{
 "cells": [
  {
   "cell_type": "code",
   "execution_count": 5,
   "id": "1b430be9",
   "metadata": {},
   "outputs": [],
   "source": [
    "import numpy as np\n",
    "import warnings\n",
    "warnings.filterwarnings(\"ignore\")\n",
    "X = {}\n",
    "y = {}\n",
    "X[\"train\"] = np.load(\"X_train_text.npy\")\n",
    "y[\"train\"] = np.load(\"y_train.npy\")\n",
    "X[\"dev\"] = np.load(\"X_test_text.npy\")\n",
    "y[\"dev\"] = np.load(\"y_dev.npy\")\n"
   ]
  },
  {
   "cell_type": "code",
   "execution_count": 6,
   "id": "a940a4c6",
   "metadata": {},
   "outputs": [],
   "source": [
    "import csv\n",
    "\n",
    "with open('./emo_dev.tsv', 'wt') as out_file:\n",
    "    tsv_writer = csv.writer(out_file, delimiter='\\t')\n",
    "    tsv_writer.writerow(['sentence', 'label'])\n",
    "    for i in range(X[\"dev\"].shape[0]):\n",
    "        tsv_writer.writerow([X[\"dev\"][i], y[\"dev\"][i]])\n"
   ]
  },
  {
   "cell_type": "code",
   "execution_count": 7,
   "id": "314a30f4",
   "metadata": {},
   "outputs": [],
   "source": [
    "import csv\n",
    "\n",
    "with open('./emo_train.tsv', 'wt') as out_file:\n",
    "    tsv_writer = csv.writer(out_file, delimiter='\\t')\n",
    "    tsv_writer.writerow(['sentence', 'label'])\n",
    "    for i in range(X[\"train\"].shape[0]):\n",
    "        tsv_writer.writerow([X[\"train\"][i], y[\"train\"][i]])"
   ]
  },
  {
   "cell_type": "code",
   "execution_count": null,
   "id": "af181a6c",
   "metadata": {},
   "outputs": [],
   "source": []
  }
 ],
 "metadata": {
  "kernelspec": {
   "display_name": "Python 3 (ipykernel)",
   "language": "python",
   "name": "python3"
  },
  "language_info": {
   "codemirror_mode": {
    "name": "ipython",
    "version": 3
   },
   "file_extension": ".py",
   "mimetype": "text/x-python",
   "name": "python",
   "nbconvert_exporter": "python",
   "pygments_lexer": "ipython3",
   "version": "3.8.12"
  }
 },
 "nbformat": 4,
 "nbformat_minor": 5
}
