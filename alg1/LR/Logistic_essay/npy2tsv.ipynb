{
 "cells": [
  {
   "cell_type": "code",
   "execution_count": 4,
   "id": "1b430be9",
   "metadata": {},
   "outputs": [],
   "source": [
    "import numpy as np\n",
    "import warnings\n",
    "warnings.filterwarnings(\"ignore\")\n",
    "X = {}\n",
    "y = {}\n",
    "X[\"train\"] = np.load(\"X_train.npy\")\n",
    "y[\"train\"] = np.load(\"y_train.npy\")\n",
    "X[\"dev\"] = np.load(\"X_dev.npy\")\n",
    "y[\"dev\"] = np.load(\"y_dev.npy\")"
   ]
  },
  {
   "cell_type": "code",
   "execution_count": 2,
   "id": "a940a4c6",
   "metadata": {},
   "outputs": [],
   "source": [
    "import csv\n",
    "\n",
    "with open('./essay_dev.tsv', 'wt') as out_file:\n",
    "    tsv_writer = csv.writer(out_file, delimiter='\\t')\n",
    "    for i in range(X[\"dev\"].shape[0]):\n",
    "        tsv_writer.writerow([, 'field'])\n",
    "    tsv_writer.writerow(['name', 'field'])\n",
    "    tsv_writer.writerow(['Dijkstra', 'Computer Science'])\n",
    "    tsv_writer.writerow(['Shelah', 'Math'])\n",
    "    tsv_writer.writerow(['Aumann', 'Economic Sciences'])"
   ]
  },
  {
   "cell_type": "code",
   "execution_count": 3,
   "id": "314a30f4",
   "metadata": {},
   "outputs": [
    {
     "name": "stdout",
     "output_type": "stream",
     "text": [
      "name\tfield\r",
      "\r\n",
      "Dijkstra\tComputer Science\r",
      "\r\n",
      "Shelah\tMath\r",
      "\r\n",
      "Aumann\tEconomic Sciences\r",
      "\r\n"
     ]
    }
   ],
   "source": [
    "cat ./output.tsv"
   ]
  },
  {
   "cell_type": "code",
   "execution_count": null,
   "id": "af181a6c",
   "metadata": {},
   "outputs": [],
   "source": []
  }
 ],
 "metadata": {
  "kernelspec": {
   "display_name": "Python 3 (ipykernel)",
   "language": "python",
   "name": "python3"
  },
  "language_info": {
   "codemirror_mode": {
    "name": "ipython",
    "version": 3
   },
   "file_extension": ".py",
   "mimetype": "text/x-python",
   "name": "python",
   "nbconvert_exporter": "python",
   "pygments_lexer": "ipython3",
   "version": "3.8.12"
  }
 },
 "nbformat": 4,
 "nbformat_minor": 5
}
