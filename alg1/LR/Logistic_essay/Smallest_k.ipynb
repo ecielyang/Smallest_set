{
 "cells": [
  {
   "cell_type": "code",
   "execution_count": 1,
   "id": "ab6ef9a7",
   "metadata": {},
   "outputs": [],
   "source": [
    "import numpy as np\n",
    "import warnings\n",
    "warnings.filterwarnings(\"ignore\")\n",
    "X = {}\n",
    "y = {}\n",
    "X[\"train\"] = np.load(\"X_train.npy\")\n",
    "y[\"train\"] = np.load(\"y_train.npy\")\n",
    "X[\"dev\"] = np.load(\"X_dev.npy\")\n",
    "y[\"dev\"] = np.load(\"y_dev.npy\")"
   ]
  },
  {
   "cell_type": "code",
   "execution_count": 2,
   "id": "ee506a1a",
   "metadata": {},
   "outputs": [
    {
     "data": {
      "text/plain": [
       "((11678, 300), (1298, 300))"
      ]
     },
     "execution_count": 2,
     "metadata": {},
     "output_type": "execute_result"
    }
   ],
   "source": [
    "X[\"train\"].shape, X[\"dev\"].shape"
   ]
  },
  {
   "cell_type": "code",
   "execution_count": 3,
   "id": "cf2cd930",
   "metadata": {},
   "outputs": [
    {
     "data": {
      "text/plain": [
       "0.10057028360049322"
      ]
     },
     "execution_count": 3,
     "metadata": {},
     "output_type": "execute_result"
    }
   ],
   "source": [
    "(np.sum(y[\"train\"]) + np.sum(y[\"dev\"])) / (y[\"train\"].shape[0] + y[\"dev\"].shape[0])"
   ]
  },
  {
   "cell_type": "code",
   "execution_count": 4,
   "id": "fdbd82a4",
   "metadata": {},
   "outputs": [
    {
     "data": {
      "text/plain": [
       "(1181, 124)"
      ]
     },
     "execution_count": 4,
     "metadata": {},
     "output_type": "execute_result"
    }
   ],
   "source": [
    "np.sum(y[\"train\"]), np.sum(y[\"dev\"])"
   ]
  },
  {
   "cell_type": "code",
   "execution_count": 5,
   "id": "8a69b5d0",
   "metadata": {},
   "outputs": [
    {
     "data": {
      "text/plain": [
       "0.9653312788906009"
      ]
     },
     "execution_count": 5,
     "metadata": {},
     "output_type": "execute_result"
    }
   ],
   "source": [
    "from sklearn.linear_model import LogisticRegression\n",
    "model = LogisticRegression(penalty='l2', C=1)\n",
    "model.fit(X[\"train\"], y[\"train\"])\n",
    "pred = np.reshape(model.predict_proba(X[\"dev\"])[:, 1], (model.predict_proba(X[\"dev\"])[:, 1].shape[0], 1))\n",
    "model.score(X[\"dev\"], y[\"dev\"])"
   ]
  },
  {
   "cell_type": "code",
   "execution_count": 6,
   "id": "694d00d8",
   "metadata": {},
   "outputs": [
    {
     "data": {
      "text/plain": [
       "0.8017621145374451"
      ]
     },
     "execution_count": 6,
     "metadata": {},
     "output_type": "execute_result"
    }
   ],
   "source": [
    "import sklearn.metrics as mc\n",
    "mc.f1_score(y[\"dev\"], np.round(pred))"
   ]
  },
  {
   "cell_type": "code",
   "execution_count": 7,
   "id": "f71d7c49",
   "metadata": {},
   "outputs": [
    {
     "data": {
      "text/plain": [
       "0.9905341539814255"
      ]
     },
     "execution_count": 7,
     "metadata": {},
     "output_type": "execute_result"
    }
   ],
   "source": [
    "fpr, tpr, thresholds = mc.roc_curve(y[\"dev\"], pred)\n",
    "mc.auc(fpr, tpr)"
   ]
  },
  {
   "cell_type": "code",
   "execution_count": 8,
   "id": "14bc6d04",
   "metadata": {},
   "outputs": [
    {
     "data": {
      "text/plain": [
       "((11678, 301), (1298, 301))"
      ]
     },
     "execution_count": 8,
     "metadata": {},
     "output_type": "execute_result"
    }
   ],
   "source": [
    "w = np.concatenate((model.coef_, model.intercept_[None, :]), axis=1)\n",
    "F_train = np.concatenate([X[\"train\"], np.ones((X[\"train\"].shape[0], 1))], axis=1) # Concatenating one to calculate the gradient with respect to intercept\n",
    "F_dev = np.concatenate([X[\"dev\"], np.ones((X[\"dev\"].shape[0], 1))], axis=1)\n",
    "\n",
    "error_train = model.predict_proba(X[\"train\"])[:, 1] - y[\"train\"]\n",
    "error_dev = model.predict_proba(X[\"dev\"])[:, 1] - y[\"dev\"]\n",
    "\n",
    "gradient_train = F_train * error_train[:, None]\n",
    "gradient_dev = F_dev * error_dev[:, None]\n",
    "g = np.sum(gradient_train, axis=0) / 6920\n",
    "gradient_train.shape, gradient_dev.shape"
   ]
  },
  {
   "cell_type": "code",
   "execution_count": 9,
   "id": "30db036d",
   "metadata": {},
   "outputs": [],
   "source": [
    "#from scipy import sparse\n",
    "probs = model.predict_proba(X[\"train\"])[:, 1]\n",
    "hessian = F_train.T @ np.diag(probs * (1 - probs)) @ F_train / X[\"train\"].shape[0] + 1 * np.eye(F_train.shape[1]) / X[\"train\"].shape[0]\n",
    "inverse_hessian = np.linalg.inv(hessian)"
   ]
  },
  {
   "cell_type": "code",
   "execution_count": 10,
   "id": "c863366c",
   "metadata": {},
   "outputs": [
    {
     "data": {
      "text/plain": [
       "(1298, 11678)"
      ]
     },
     "execution_count": 10,
     "metadata": {},
     "output_type": "execute_result"
    }
   ],
   "source": [
    "eps = 1 / X[\"train\"].shape[0]\n",
    "delta_k = -eps * inverse_hessian @ gradient_train.T\n",
    "grad_f = F_dev * (pred * (1 - pred))\n",
    "delta_pred = grad_f @ delta_k\n",
    "delta_pred.shape"
   ]
  },
  {
   "cell_type": "code",
   "execution_count": 11,
   "id": "6610c4ea",
   "metadata": {},
   "outputs": [],
   "source": [
    "def Remove(k, scores, test_idx):\n",
    "    #print(\"test_idx\", test_idx)\n",
    "    #print(\"old\")\n",
    "    #print(pred[test_idx])\n",
    "    #print(\"k\", k)\n",
    "    \n",
    "    if pred[test_idx] > 0.5:\n",
    "        top_k_index = scores[test_idx].argsort()[-k:]\n",
    "    else:\n",
    "        top_k_index = scores[test_idx].argsort()[:k]\n",
    "\n",
    "    X_k = np.delete(X[\"train\"], top_k_index, axis=0)\n",
    "    y_k = np.delete(y[\"train\"], top_k_index, axis=0)\n",
    "\n",
    "        \n",
    "    prediction = -np.sum(scores[test_idx][top_k_index])\n",
    "    \n",
    "    \n",
    "    #print(\"prediction\", prediction)\n",
    "\n",
    "    return X_k, y_k, prediction"
   ]
  },
  {
   "cell_type": "code",
   "execution_count": 12,
   "id": "9be5e544",
   "metadata": {},
   "outputs": [],
   "source": [
    "def new_train(k, dev_index, scores):\n",
    "    X_k, y_k, prediction = Remove(k, scores, dev_index)\n",
    "    if y_k.shape[0] == np.sum(y_k) or np.sum(y_k) == 0: # data contains only one class: 1\n",
    "        return None, None, None, None\n",
    "\n",
    "    # Fit the model again\n",
    "    model_k = LogisticRegression(penalty='l2', C=1)\n",
    "    model_k.fit(X_k, y_k)\n",
    "\n",
    "    # predictthe probaility with test point\n",
    "    test_point = X[\"dev\"][dev_index]\n",
    "    test_point=np.reshape(test_point, (1,-1))\n",
    "    new = model_k.predict_proba(test_point)[0][1]\n",
    "\n",
    "    change = -(model.predict_proba(test_point)[0][1] - model_k.predict_proba(test_point)[0][1])\n",
    "    #change = model_k.predict_proba(test_point)[0][1]-model.predict_proba(test_point)[0][1]\n",
    "    flip = (model.predict(test_point) == model_k.predict(test_point))\n",
    "    \n",
    "    \n",
    "    #print(\"change    \", change)\n",
    "    #print(\"old       \", model.predict_proba(test_point)[0][1])\n",
    "    #print()\n",
    "    \n",
    "    \n",
    "    \n",
    "  \n",
    "    return change, flip, prediction, new"
   ]
  },
  {
   "cell_type": "markdown",
   "id": "92c268f9",
   "metadata": {},
   "source": [
    "# Find approximate k by IF"
   ]
  },
  {
   "cell_type": "code",
   "execution_count": 15,
   "id": "d881d752",
   "metadata": {},
   "outputs": [],
   "source": [
    "def pred_change(k, scores, test_idx):\n",
    "    X_k, y_k, prediction = Remove(k, delta_pred, test_idx)\n",
    "    "
   ]
  },
  {
   "cell_type": "code",
   "execution_count": 16,
   "id": "eeda6ab2",
   "metadata": {},
   "outputs": [],
   "source": [
    "def approximate_k(test_idx):\n",
    "    old = pred[test_idx].item()\n",
    "    for k in range(1, X[\"train\"].shape[0]):\n",
    "        _, _, change = Remove(k, delta_pred, test_idx)\n",
    "        \n",
    "        #new_train(k, test_idx, delta_pred)\n",
    "        #print(\"cahnge\", change)\n",
    "        if change == None:\n",
    "            return None\n",
    "        \n",
    "        if old > 0.5 and old + change < 0.5:\n",
    "            return k\n",
    "        elif old < 0.5 and old + change > 0.5:\n",
    "            return k\n",
    "        \n",
    "    return None"
   ]
  },
  {
   "cell_type": "code",
   "execution_count": 17,
   "id": "df3f6d51",
   "metadata": {},
   "outputs": [
    {
     "name": "stdout",
     "output_type": "stream",
     "text": [
      "0 None None\n",
      "\n",
      "1 None None\n",
      "\n",
      "2 None None\n",
      "\n",
      "3 None None\n",
      "\n"
     ]
    },
    {
     "ename": "KeyboardInterrupt",
     "evalue": "",
     "output_type": "error",
     "traceback": [
      "\u001b[0;31m---------------------------------------------------------------------------\u001b[0m",
      "\u001b[0;31mKeyboardInterrupt\u001b[0m                         Traceback (most recent call last)",
      "Input \u001b[0;32mIn [17]\u001b[0m, in \u001b[0;36m<cell line: 6>\u001b[0;34m()\u001b[0m\n\u001b[1;32m      4\u001b[0m new_pred \u001b[38;5;241m=\u001b[39m np\u001b[38;5;241m.\u001b[39mzeros((\u001b[38;5;241m1298\u001b[39m, \u001b[38;5;241m1\u001b[39m))\n\u001b[1;32m      6\u001b[0m \u001b[38;5;28;01mfor\u001b[39;00m test_idx \u001b[38;5;129;01min\u001b[39;00m \u001b[38;5;28mrange\u001b[39m(\u001b[38;5;241m1298\u001b[39m):\n\u001b[0;32m----> 7\u001b[0m     appro_k \u001b[38;5;241m=\u001b[39m \u001b[43mapproximate_k\u001b[49m\u001b[43m(\u001b[49m\u001b[43mtest_idx\u001b[49m\u001b[43m)\u001b[49m\n\u001b[1;32m      8\u001b[0m     appro_ks[test_idx] \u001b[38;5;241m=\u001b[39m appro_k\n\u001b[1;32m      9\u001b[0m     \u001b[38;5;28;01mif\u001b[39;00m appro_k \u001b[38;5;241m==\u001b[39m \u001b[38;5;28;01mNone\u001b[39;00m:\n",
      "Input \u001b[0;32mIn [16]\u001b[0m, in \u001b[0;36mapproximate_k\u001b[0;34m(test_idx)\u001b[0m\n\u001b[1;32m      2\u001b[0m old \u001b[38;5;241m=\u001b[39m pred[test_idx]\u001b[38;5;241m.\u001b[39mitem()\n\u001b[1;32m      3\u001b[0m \u001b[38;5;28;01mfor\u001b[39;00m k \u001b[38;5;129;01min\u001b[39;00m \u001b[38;5;28mrange\u001b[39m(\u001b[38;5;241m1\u001b[39m, X[\u001b[38;5;124m\"\u001b[39m\u001b[38;5;124mtrain\u001b[39m\u001b[38;5;124m\"\u001b[39m]\u001b[38;5;241m.\u001b[39mshape[\u001b[38;5;241m0\u001b[39m]):\n\u001b[0;32m----> 4\u001b[0m     _, _, change \u001b[38;5;241m=\u001b[39m \u001b[43mRemove\u001b[49m\u001b[43m(\u001b[49m\u001b[43mk\u001b[49m\u001b[43m,\u001b[49m\u001b[43m \u001b[49m\u001b[43mdelta_pred\u001b[49m\u001b[43m,\u001b[49m\u001b[43m \u001b[49m\u001b[43mtest_idx\u001b[49m\u001b[43m)\u001b[49m\n\u001b[1;32m      6\u001b[0m     \u001b[38;5;66;03m#new_train(k, test_idx, delta_pred)\u001b[39;00m\n\u001b[1;32m      7\u001b[0m     \u001b[38;5;66;03m#print(\"cahnge\", change)\u001b[39;00m\n\u001b[1;32m      8\u001b[0m     \u001b[38;5;28;01mif\u001b[39;00m change \u001b[38;5;241m==\u001b[39m \u001b[38;5;28;01mNone\u001b[39;00m:\n",
      "Input \u001b[0;32mIn [11]\u001b[0m, in \u001b[0;36mRemove\u001b[0;34m(k, scores, test_idx)\u001b[0m\n\u001b[1;32m      9\u001b[0m \u001b[38;5;28;01melse\u001b[39;00m:\n\u001b[1;32m     10\u001b[0m     top_k_index \u001b[38;5;241m=\u001b[39m scores[test_idx]\u001b[38;5;241m.\u001b[39margsort()[:k]\n\u001b[0;32m---> 12\u001b[0m X_k \u001b[38;5;241m=\u001b[39m \u001b[43mnp\u001b[49m\u001b[38;5;241;43m.\u001b[39;49m\u001b[43mdelete\u001b[49m\u001b[43m(\u001b[49m\u001b[43mX\u001b[49m\u001b[43m[\u001b[49m\u001b[38;5;124;43m\"\u001b[39;49m\u001b[38;5;124;43mtrain\u001b[39;49m\u001b[38;5;124;43m\"\u001b[39;49m\u001b[43m]\u001b[49m\u001b[43m,\u001b[49m\u001b[43m \u001b[49m\u001b[43mtop_k_index\u001b[49m\u001b[43m,\u001b[49m\u001b[43m \u001b[49m\u001b[43maxis\u001b[49m\u001b[38;5;241;43m=\u001b[39;49m\u001b[38;5;241;43m0\u001b[39;49m\u001b[43m)\u001b[49m\n\u001b[1;32m     13\u001b[0m y_k \u001b[38;5;241m=\u001b[39m np\u001b[38;5;241m.\u001b[39mdelete(y[\u001b[38;5;124m\"\u001b[39m\u001b[38;5;124mtrain\u001b[39m\u001b[38;5;124m\"\u001b[39m], top_k_index, axis\u001b[38;5;241m=\u001b[39m\u001b[38;5;241m0\u001b[39m)\n\u001b[1;32m     16\u001b[0m prediction \u001b[38;5;241m=\u001b[39m \u001b[38;5;241m-\u001b[39mnp\u001b[38;5;241m.\u001b[39msum(scores[test_idx][top_k_index])\n",
      "File \u001b[0;32m<__array_function__ internals>:5\u001b[0m, in \u001b[0;36mdelete\u001b[0;34m(*args, **kwargs)\u001b[0m\n",
      "File \u001b[0;32m/opt/anaconda3/envs/torch/lib/python3.8/site-packages/numpy/lib/function_base.py:4409\u001b[0m, in \u001b[0;36mdelete\u001b[0;34m(arr, obj, axis)\u001b[0m\n\u001b[1;32m   4406\u001b[0m         keep[obj,] \u001b[38;5;241m=\u001b[39m \u001b[38;5;28;01mFalse\u001b[39;00m\n\u001b[1;32m   4408\u001b[0m     slobj[axis] \u001b[38;5;241m=\u001b[39m keep\n\u001b[0;32m-> 4409\u001b[0m     new \u001b[38;5;241m=\u001b[39m \u001b[43marr\u001b[49m\u001b[43m[\u001b[49m\u001b[38;5;28;43mtuple\u001b[39;49m\u001b[43m(\u001b[49m\u001b[43mslobj\u001b[49m\u001b[43m)\u001b[49m\u001b[43m]\u001b[49m\n\u001b[1;32m   4411\u001b[0m \u001b[38;5;28;01mif\u001b[39;00m wrap:\n\u001b[1;32m   4412\u001b[0m     \u001b[38;5;28;01mreturn\u001b[39;00m wrap(new)\n",
      "\u001b[0;31mKeyboardInterrupt\u001b[0m: "
     ]
    }
   ],
   "source": [
    "# Loop over all dev points:\n",
    "\n",
    "appro_ks = np.zeros((1298, 1))\n",
    "new_pred = np.zeros((1298, 1))\n",
    "\n",
    "for test_idx in range(1298):\n",
    "    appro_k = approximate_k(test_idx)\n",
    "    appro_ks[test_idx] = appro_k\n",
    "    if appro_k == None:\n",
    "        new = None\n",
    "    else:\n",
    "        _, _ , _, new = new_train(appro_k, test_idx, delta_pred)\n",
    "    new_pred[test_idx] = new\n",
    "    print(test_idx, appro_k, new)\n",
    "    print()\n",
    "\n",
    "\n",
    "np.save(\"appro_ks.npy\", appro_ks)\n",
    "np.save(\"new_predictions.npy\", new_pred)\n",
    "np.save(\"old_predictions.npy\", pred)"
   ]
  },
  {
   "cell_type": "markdown",
   "id": "0758d270",
   "metadata": {},
   "source": [
    "# exact_k"
   ]
  },
  {
   "cell_type": "code",
   "execution_count": null,
   "id": "1ac5a517",
   "metadata": {},
   "outputs": [],
   "source": [
    "def exact_k(test_idx):\n",
    "    for k in range(1, 11678):\n",
    "        _, flip,_,_  = new_train(k, test_idx, delta_pred)\n",
    "        if flip == None:\n",
    "            return None\n",
    "        if flip == False:\n",
    "            return k\n",
    "    return None"
   ]
  },
  {
   "cell_type": "code",
   "execution_count": null,
   "id": "03f19f63",
   "metadata": {},
   "outputs": [],
   "source": [
    "\"\"\"\n",
    "# Loop over all dev points:\n",
    "import warnings\n",
    "warnings.filterwarnings(\"ignore\")\n",
    "\n",
    "exact_ks = []\n",
    "exact_ks = np.zeros((1298, 1))\n",
    "for test_idx in range(X[\"dev\"].shape[0]):\n",
    "    k =exact_k(test_idx)\n",
    "    print(test_idx, k)\n",
    "    exact_ks[test_idx]= k\n",
    "\n",
    "exact_ks=np.array(exact_ks)\n",
    "np.save(\"exact_ks_IP.npy\", exact_ks)\n",
    "\n",
    "\"\"\""
   ]
  },
  {
   "cell_type": "markdown",
   "id": "d36a59c1",
   "metadata": {},
   "source": [
    "# Difference of change and prediction when k increasing"
   ]
  },
  {
   "cell_type": "code",
   "execution_count": null,
   "id": "d8f1d4af",
   "metadata": {},
   "outputs": [],
   "source": [
    "\"\"\"\n",
    "row = len(list(range(0, X[\"dev\"].shape[0])))\n",
    "col = len(list(range(1, np.sum(y[\"train\"]))))\n",
    "changes = np.zeros((row, col))\n",
    "prediction = np.zeros((row, col))\n",
    "\n",
    "import warnings\n",
    "warnings.filterwarnings(\"ignore\")\n",
    "for i in range(0, X[\"dev\"].shape[0]):\n",
    "    print(i)\n",
    "    for j in range(1, np.sum(y[\"train\"]):\n",
    "        changes[i, j-1], _, prediction[i, j-1] = new_train(j, i, delta_pred)\n",
    "        \n",
    "   \n",
    "np.save(\"pred_change_app.npy\", prediction)\n",
    "np.save(\"changes.npy\", changes)\n",
    "\n",
    "difference = prediction - changes\n",
    "np.save(\"difference_k_appk.npy\", difference)\n",
    "\"\"\""
   ]
  },
  {
   "cell_type": "code",
   "execution_count": null,
   "id": "c519960a",
   "metadata": {},
   "outputs": [],
   "source": []
  }
 ],
 "metadata": {
  "kernelspec": {
   "display_name": "Python 3 (ipykernel)",
   "language": "python",
   "name": "python3"
  },
  "language_info": {
   "codemirror_mode": {
    "name": "ipython",
    "version": 3
   },
   "file_extension": ".py",
   "mimetype": "text/x-python",
   "name": "python",
   "nbconvert_exporter": "python",
   "pygments_lexer": "ipython3",
   "version": "3.8.12"
  }
 },
 "nbformat": 4,
 "nbformat_minor": 5
}
