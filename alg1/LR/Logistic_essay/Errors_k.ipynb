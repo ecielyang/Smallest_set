{
 "cells": [
  {
   "cell_type": "code",
   "execution_count": 1,
   "id": "b03ab5a1",
   "metadata": {},
   "outputs": [],
   "source": [
    "import numpy as np"
   ]
  },
  {
   "cell_type": "code",
   "execution_count": 4,
   "id": "b74247b0",
   "metadata": {},
   "outputs": [],
   "source": [
    "ks_app = np.load(\"appro_ks.npy\", allow_pickle=True)\n",
    "exact_k = np.load(\"exact_ks_IP.npy\", allow_pickle=True)"
   ]
  },
  {
   "cell_type": "code",
   "execution_count": 14,
   "id": "a3fb78cc",
   "metadata": {},
   "outputs": [
    {
     "ename": "TypeError",
     "evalue": "unsupported operand type(s) for +: 'NoneType' and 'NoneType'",
     "output_type": "error",
     "traceback": [
      "\u001b[0;31m---------------------------------------------------------------------------\u001b[0m",
      "\u001b[0;31mTypeError\u001b[0m                                 Traceback (most recent call last)",
      "Input \u001b[0;32mIn [14]\u001b[0m, in \u001b[0;36m<cell line: 1>\u001b[0;34m()\u001b[0m\n\u001b[0;32m----> 1\u001b[0m \u001b[43mnp\u001b[49m\u001b[38;5;241;43m.\u001b[39;49m\u001b[43msum\u001b[49m\u001b[43m(\u001b[49m\u001b[43mks_app\u001b[49m\u001b[43m)\u001b[49m\n",
      "File \u001b[0;32m<__array_function__ internals>:5\u001b[0m, in \u001b[0;36msum\u001b[0;34m(*args, **kwargs)\u001b[0m\n",
      "File \u001b[0;32m/opt/anaconda3/envs/torch/lib/python3.8/site-packages/numpy/core/fromnumeric.py:2241\u001b[0m, in \u001b[0;36msum\u001b[0;34m(a, axis, dtype, out, keepdims, initial, where)\u001b[0m\n\u001b[1;32m   2238\u001b[0m         \u001b[38;5;28;01mreturn\u001b[39;00m out\n\u001b[1;32m   2239\u001b[0m     \u001b[38;5;28;01mreturn\u001b[39;00m res\n\u001b[0;32m-> 2241\u001b[0m \u001b[38;5;28;01mreturn\u001b[39;00m \u001b[43m_wrapreduction\u001b[49m\u001b[43m(\u001b[49m\u001b[43ma\u001b[49m\u001b[43m,\u001b[49m\u001b[43m \u001b[49m\u001b[43mnp\u001b[49m\u001b[38;5;241;43m.\u001b[39;49m\u001b[43madd\u001b[49m\u001b[43m,\u001b[49m\u001b[43m \u001b[49m\u001b[38;5;124;43m'\u001b[39;49m\u001b[38;5;124;43msum\u001b[39;49m\u001b[38;5;124;43m'\u001b[39;49m\u001b[43m,\u001b[49m\u001b[43m \u001b[49m\u001b[43maxis\u001b[49m\u001b[43m,\u001b[49m\u001b[43m \u001b[49m\u001b[43mdtype\u001b[49m\u001b[43m,\u001b[49m\u001b[43m \u001b[49m\u001b[43mout\u001b[49m\u001b[43m,\u001b[49m\u001b[43m \u001b[49m\u001b[43mkeepdims\u001b[49m\u001b[38;5;241;43m=\u001b[39;49m\u001b[43mkeepdims\u001b[49m\u001b[43m,\u001b[49m\n\u001b[1;32m   2242\u001b[0m \u001b[43m                      \u001b[49m\u001b[43minitial\u001b[49m\u001b[38;5;241;43m=\u001b[39;49m\u001b[43minitial\u001b[49m\u001b[43m,\u001b[49m\u001b[43m \u001b[49m\u001b[43mwhere\u001b[49m\u001b[38;5;241;43m=\u001b[39;49m\u001b[43mwhere\u001b[49m\u001b[43m)\u001b[49m\n",
      "File \u001b[0;32m/opt/anaconda3/envs/torch/lib/python3.8/site-packages/numpy/core/fromnumeric.py:87\u001b[0m, in \u001b[0;36m_wrapreduction\u001b[0;34m(obj, ufunc, method, axis, dtype, out, **kwargs)\u001b[0m\n\u001b[1;32m     84\u001b[0m         \u001b[38;5;28;01melse\u001b[39;00m:\n\u001b[1;32m     85\u001b[0m             \u001b[38;5;28;01mreturn\u001b[39;00m reduction(axis\u001b[38;5;241m=\u001b[39maxis, out\u001b[38;5;241m=\u001b[39mout, \u001b[38;5;241m*\u001b[39m\u001b[38;5;241m*\u001b[39mpasskwargs)\n\u001b[0;32m---> 87\u001b[0m \u001b[38;5;28;01mreturn\u001b[39;00m \u001b[43mufunc\u001b[49m\u001b[38;5;241;43m.\u001b[39;49m\u001b[43mreduce\u001b[49m\u001b[43m(\u001b[49m\u001b[43mobj\u001b[49m\u001b[43m,\u001b[49m\u001b[43m \u001b[49m\u001b[43maxis\u001b[49m\u001b[43m,\u001b[49m\u001b[43m \u001b[49m\u001b[43mdtype\u001b[49m\u001b[43m,\u001b[49m\u001b[43m \u001b[49m\u001b[43mout\u001b[49m\u001b[43m,\u001b[49m\u001b[43m \u001b[49m\u001b[38;5;241;43m*\u001b[39;49m\u001b[38;5;241;43m*\u001b[39;49m\u001b[43mpasskwargs\u001b[49m\u001b[43m)\u001b[49m\n",
      "\u001b[0;31mTypeError\u001b[0m: unsupported operand type(s) for +: 'NoneType' and 'NoneType'"
     ]
    }
   ],
   "source": [
    "np.sum(ks_app)"
   ]
  },
  {
   "cell_type": "code",
   "execution_count": 17,
   "id": "c6c9ea14",
   "metadata": {},
   "outputs": [
    {
     "name": "stdout",
     "output_type": "stream",
     "text": [
      "401\n",
      "36\n",
      "557\n",
      "263\n",
      "1045\n",
      "169\n",
      "231\n",
      "3\n",
      "39\n",
      "208\n",
      "741\n",
      "109\n",
      "373\n",
      "604\n",
      "425\n",
      "299\n",
      "162\n",
      "254\n",
      "168\n",
      "25\n",
      "319\n",
      "79\n",
      "79\n",
      "155\n",
      "201\n",
      "1062\n",
      "256\n",
      "81\n",
      "167\n",
      "141\n",
      "161\n",
      "117\n",
      "917\n",
      "487\n",
      "554\n",
      "16\n",
      "747\n",
      "826\n",
      "163\n",
      "68\n",
      "81\n",
      "236\n",
      "467\n",
      "403\n",
      "141\n",
      "40\n",
      "204\n",
      "182\n",
      "257\n",
      "682\n",
      "219\n",
      "9\n",
      "153\n",
      "70\n",
      "1120\n",
      "3\n",
      "67\n",
      "388\n",
      "167\n",
      "1028\n",
      "469\n",
      "107\n",
      "692\n",
      "421\n",
      "642\n",
      "42\n",
      "639\n",
      "471\n",
      "446\n",
      "123\n",
      "41\n",
      "11\n",
      "1061\n",
      "962\n",
      "13\n",
      "16\n",
      "219\n",
      "70\n",
      "170\n",
      "130\n",
      "172\n",
      "129\n",
      "177\n",
      "135\n",
      "49\n",
      "110\n",
      "133\n",
      "1043\n",
      "197\n",
      "526\n",
      "159\n",
      "340\n",
      "839\n",
      "347\n",
      "409\n",
      "62\n",
      "1133\n",
      "268\n",
      "57\n",
      "28\n",
      "778\n",
      "143\n",
      "20\n",
      "76\n",
      "162\n",
      "145\n",
      "48\n",
      "170\n",
      "47\n",
      "77\n",
      "247\n",
      "240\n",
      "747\n",
      "120\n",
      "279\n",
      "141\n",
      "203\n",
      "151\n",
      "66\n",
      "187\n",
      "31\n",
      "136\n",
      "585\n",
      "430\n",
      "478\n",
      "898\n",
      "1146\n",
      "195\n",
      "372\n",
      "31\n",
      "681\n",
      "283\n",
      "352\n",
      "254\n",
      "77\n",
      "41\n",
      "240\n",
      "383\n",
      "241\n",
      "1\n",
      "230\n",
      "138\n",
      "202\n",
      "796\n",
      "126\n",
      "191\n",
      "521\n",
      "362\n",
      "112\n",
      "1134\n",
      "750\n",
      "276\n",
      "137\n",
      "728\n",
      "404\n",
      "168\n",
      "159\n",
      "156\n",
      "308\n",
      "730\n",
      "445\n",
      "35\n",
      "464\n",
      "818\n",
      "399\n",
      "30\n",
      "921\n",
      "21\n",
      "116\n",
      "288\n",
      "75\n",
      "243\n",
      "118\n",
      "363\n",
      "95\n",
      "177\n",
      "44\n",
      "133\n",
      "40\n",
      "53\n",
      "1052\n",
      "12\n",
      "372\n",
      "151\n",
      "37\n",
      "532\n",
      "162\n",
      "166\n"
     ]
    }
   ],
   "source": [
    "for i in range(len(exact_k)):\n",
    "    if exact_k[i] != None:\n",
    "        print(exact_k[i])"
   ]
  },
  {
   "cell_type": "code",
   "execution_count": 7,
   "id": "6591eb64",
   "metadata": {},
   "outputs": [],
   "source": [
    "# mark None as 4000 for approximate k\n",
    "ks_app2=[]\n",
    "for i in ks_app:\n",
    "    if i == None:\n",
    "        ks_app2.append(4000)\n",
    "    else:\n",
    "        ks_app2.append(i)"
   ]
  },
  {
   "cell_type": "code",
   "execution_count": 8,
   "id": "b723486f",
   "metadata": {},
   "outputs": [],
   "source": [
    "# mark None as 4000 for exact_k\n",
    "exact_k2=[]\n",
    "for i in exact_k:\n",
    "    if i == None:\n",
    "        exact_k2.append(4000)\n",
    "    else:\n",
    "        exact_k2.append(i)"
   ]
  },
  {
   "cell_type": "markdown",
   "id": "ce14972d",
   "metadata": {},
   "source": [
    "# Plot exact k distribution"
   ]
  },
  {
   "cell_type": "code",
   "execution_count": 9,
   "id": "a37964d4",
   "metadata": {},
   "outputs": [
    {
     "data": {
      "image/png": "[encoded data removed]",
      "text/plain": [
       "<Figure size 432x288 with 1 Axes>"
      ]
     },
     "metadata": {
      "needs_background": "light"
     },
     "output_type": "display_data"
    }
   ],
   "source": [
    "import matplotlib.pyplot as plt\n",
    "\n",
    "n, bins, patches=plt.hist(exact_k2, bins=50)\n",
    "plt.xlabel(\"exact k\")\n",
    "plt.ylabel(\"Frequency\")\n",
    "plt.title(\"Histogram\")\n",
    "plt.show()"
   ]
  },
  {
   "cell_type": "code",
   "execution_count": 11,
   "id": "6a86740f",
   "metadata": {},
   "outputs": [
    {
     "data": {
      "text/plain": [
       "(1298, 1298)"
      ]
     },
     "execution_count": 11,
     "metadata": {},
     "output_type": "execute_result"
    }
   ],
   "source": [
    "np.sum([i==None for i in ks_app]), len(ks_app)"
   ]
  },
  {
   "cell_type": "markdown",
   "id": "4d0bc0a0",
   "metadata": {},
   "source": [
    "# 207 of 800 cannot find smallest k\n",
    "let's see the exact k for those cannot find, yes, they are big k"
   ]
  },
  {
   "cell_type": "code",
   "execution_count": 6,
   "id": "b4520dda",
   "metadata": {},
   "outputs": [],
   "source": [
    "idx_list = []\n",
    "for i in range(ks_app.shape[0]):\n",
    "    if ks_app[i] == None:\n",
    "        idx_list.append(i)"
   ]
  },
  {
   "cell_type": "code",
   "execution_count": 8,
   "id": "ffceaf3d",
   "metadata": {},
   "outputs": [
    {
     "data": {
      "text/plain": [
       "(143.48447204968943, 55.67545871559633)"
      ]
     },
     "execution_count": 8,
     "metadata": {},
     "output_type": "execute_result"
    }
   ],
   "source": [
    "np.mean(exact_k[idx_list]), np.mean(exact_k)"
   ]
  },
  {
   "cell_type": "markdown",
   "id": "cd701fa4",
   "metadata": {},
   "source": [
    "# for those can find apprximation of k"
   ]
  },
  {
   "cell_type": "code",
   "execution_count": 21,
   "id": "492688d7",
   "metadata": {},
   "outputs": [],
   "source": [
    "ks_app2=[]\n",
    "for i in ks_app:\n",
    "    if i == None:\n",
    "        ks_app2.append(4000)\n",
    "    else:\n",
    "        ks_app2.append(i)"
   ]
  },
  {
   "cell_type": "code",
   "execution_count": 12,
   "id": "22d1a145",
   "metadata": {},
   "outputs": [
    {
     "data": {
      "image/png": "[encoded data removed]",
      "text/plain": [
       "<Figure size 432x288 with 1 Axes>"
      ]
     },
     "metadata": {
      "needs_background": "light"
     },
     "output_type": "display_data"
    }
   ],
   "source": [
    "import matplotlib.pyplot as plt\n",
    "\n",
    "n, bins, patches=plt.hist(ks_app2)\n",
    "plt.xlabel(\"approximate k\")\n",
    "plt.ylabel(\"Frequency\")\n",
    "plt.title(\"Histogram\")\n",
    "plt.show()"
   ]
  },
  {
   "cell_type": "code",
   "execution_count": 23,
   "id": "cafe8bdb",
   "metadata": {},
   "outputs": [
    {
     "data": {
      "image/png": "[encoded data removed]",
      "text/plain": [
       "<Figure size 1008x720 with 1 Axes>"
      ]
     },
     "metadata": {
      "needs_background": "light"
     },
     "output_type": "display_data"
    }
   ],
   "source": [
    "import matplotlib.pyplot as plt\n",
    "plt.figure(figsize=(14, 10))\n",
    "plt.scatter(exact_k, ks_app2, s=3, color='red')\n",
    "\n",
    "plt.plot(exact_k, exact_k, label='Actual k = approximate k')\n",
    "plt.legend()\n",
    " \n",
    "plt.xlabel(\"Actual k\")\n",
    "plt.ylabel(\"approximated k\")\n",
    "plt.show()"
   ]
  },
  {
   "cell_type": "code",
   "execution_count": 20,
   "id": "f4c8c90a",
   "metadata": {},
   "outputs": [
    {
     "data": {
      "text/plain": [
       "array([None, 69, None, None, None, None, 759, 86, 474, 124, 310, 159,\n",
       "       None, 103], dtype=object)"
      ]
     },
     "execution_count": 20,
     "metadata": {},
     "output_type": "execute_result"
    }
   ],
   "source": [
    "ks_app[0:14]"
   ]
  },
  {
   "cell_type": "code",
   "execution_count": 18,
   "id": "3184bdfe",
   "metadata": {},
   "outputs": [
    {
     "data": {
      "text/plain": [
       "array([111,   4, 154, 127, 112, 163, 111,   5,  79,  27,  54,  31, 116,\n",
       "         8,   6,  23,  64])"
      ]
     },
     "execution_count": 18,
     "metadata": {},
     "output_type": "execute_result"
    }
   ],
   "source": [
    "exact_k[0:17]"
   ]
  },
  {
   "cell_type": "code",
   "execution_count": 13,
   "id": "362e28c4",
   "metadata": {},
   "outputs": [
    {
     "data": {
      "image/png": "[encoded data removed]",
      "text/plain": [
       "<Figure size 1008x576 with 1 Axes>"
      ]
     },
     "metadata": {
      "needs_background": "light"
     },
     "output_type": "display_data"
    }
   ],
   "source": [
    "import matplotlib.pyplot as plt\n",
    "plt.figure(figsize=(14, 8))\n",
    "plt.scatter(exact_k, exact_k, s=3, color='red')\n",
    "\n",
    "plt.plot(exact_k, exact_k, label='Actual k = approximate k')\n",
    "plt.legend()\n",
    " \n",
    "plt.xlabel(\"Actual k\")\n",
    "plt.ylabel(\"approximated k\")\n",
    "plt.show()"
   ]
  },
  {
   "cell_type": "code",
   "execution_count": null,
   "id": "a3890be4",
   "metadata": {},
   "outputs": [],
   "source": []
  }
 ],
 "metadata": {
  "kernelspec": {
   "display_name": "Python 3 (ipykernel)",
   "language": "python",
   "name": "python3"
  },
  "language_info": {
   "codemirror_mode": {
    "name": "ipython",
    "version": 3
   },
   "file_extension": ".py",
   "mimetype": "text/x-python",
   "name": "python",
   "nbconvert_exporter": "python",
   "pygments_lexer": "ipython3",
   "version": "3.8.12"
  }
 },
 "nbformat": 4,
 "nbformat_minor": 5
}
