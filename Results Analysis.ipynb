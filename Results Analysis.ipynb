{
 "cells": [
  {
   "cell_type": "code",
   "execution_count": 1,
   "id": "373283bd-f7c6-4862-9a25-13cbc3dbaebd",
   "metadata": {},
   "outputs": [],
   "source": [
    "import numpy"
   ]
  },
  {
   "cell_type": "code",
   "execution_count": 1,
   "id": "e22a2e2a-66e7-4275-8d79-287712611c91",
   "metadata": {},
   "outputs": [
    {
     "data": {
      "text/plain": [
       "0.7889908256880734"
      ]
     },
     "execution_count": 1,
     "metadata": {},
     "output_type": "execute_result"
    }
   ],
   "source": [
    "import numpy as np\n",
    "# SST alg1\n",
    "new_pred = np.load(\"/Users/eciel/Downloads/Smallest_set-main/results/new_predictions_alg1_SST1.npy\",  allow_pickle=True)\n",
    "pred = np.load(\"/Users/eciel/Downloads/Smallest_set-main/results/old_predictions_alg1_SST1.npy\", allow_pickle=True)\n",
    "\n",
    "num = 0\n",
    "for i in range(np.shape(new_pred)[0]):\n",
    "    if new_pred[i] != None:\n",
    "        if np.round(new_pred[i]) != np.round(pred[i]):\n",
    "            num += 1\n",
    "\n",
    "num/872"
   ]
  },
  {
   "cell_type": "code",
   "execution_count": 5,
   "id": "12b544c2-4c0b-4671-b117-cf5850b28f11",
   "metadata": {},
   "outputs": [
    {
     "data": {
      "text/plain": [
       "0.7293577981651376"
      ]
     },
     "execution_count": 5,
     "metadata": {},
     "output_type": "execute_result"
    }
   ],
   "source": [
    "# SST alg2\n",
    "new_pred = np.load(\"/Users/eciel/Downloads/Smallest_set-main/results/new_predictions_SST_alg2.npy\",  allow_pickle=True)\n",
    "pred = np.load(\"/Users/eciel/Downloads/Smallest_set-main/results/old_predictions_SST_alg2.npy\", allow_pickle=True)\n",
    "\n",
    "num = 0\n",
    "for i in range(np.shape(new_pred)[0]):\n",
    "    if new_pred[i] != None:\n",
    "        if np.round(new_pred[i]) != np.round(pred[i]):\n",
    "            num += 1\n",
    "\n",
    "num/872"
   ]
  },
  {
   "cell_type": "code",
   "execution_count": 6,
   "id": "e0528fec-41b7-434e-9a79-cc87e30df143",
   "metadata": {},
   "outputs": [
    {
     "data": {
      "text/plain": [
       "0.7614678899082569"
      ]
     },
     "execution_count": 6,
     "metadata": {},
     "output_type": "execute_result"
    }
   ],
   "source": [
    "#SST bert alg1\n",
    "new_pred = np.load(\"/Users/eciel/Downloads/Smallest_set-main/results/new_predictions_alg1_SST_b10.npy\",  allow_pickle=True)\n",
    "pred = np.load(\"/Users/eciel/Downloads/Smallest_set-main/results/old_predictions_alg1_SST_b10.npy\", allow_pickle=True)\n",
    "\n",
    "num = 0\n",
    "num0=0\n",
    "for i in range(np.shape(new_pred)[0]):\n",
    "    if new_pred[i] != None:\n",
    "        num0+=1\n",
    "        if np.round(new_pred[i]) != np.round(pred[i]):\n",
    "            num += 1\n",
    "num/872"
   ]
  },
  {
   "cell_type": "code",
   "execution_count": 2,
   "id": "ea676419-93e8-4519-85b0-cc015c6db083",
   "metadata": {},
   "outputs": [
    {
     "data": {
      "text/plain": [
       "0.463302752293578"
      ]
     },
     "execution_count": 2,
     "metadata": {},
     "output_type": "execute_result"
    }
   ],
   "source": [
    "#SST bert alg2\n",
    "new_pred = np.load(\"/Users/eciel/Downloads/Smallest_set-main/results/new_predictions_SST_b_alg2.npy\",  allow_pickle=True)\n",
    "pred = np.load(\"/Users/eciel/Downloads/Smallest_set-main/results/old_predictions_SST_b_alg2.npy\", allow_pickle=True)\n",
    "\n",
    "num = 0\n",
    "num0=0\n",
    "for i in range(np.shape(new_pred)[0]):\n",
    "    if new_pred[i] != None:\n",
    "        num0+=1\n",
    "        if np.round(new_pred[i]) != np.round(pred[i]):\n",
    "            num += 1\n",
    "num/872"
   ]
  },
  {
   "cell_type": "code",
   "execution_count": null,
   "id": "f546fd80-c82a-4ceb-ac6f-5cbde76da49a",
   "metadata": {},
   "outputs": [],
   "source": []
  }
 ],
 "metadata": {
  "kernelspec": {
   "display_name": "Python 3 (ipykernel)",
   "language": "python",
   "name": "python3"
  },
  "language_info": {
   "codemirror_mode": {
    "name": "ipython",
    "version": 3
   },
   "file_extension": ".py",
   "mimetype": "text/x-python",
   "name": "python",
   "nbconvert_exporter": "python",
   "pygments_lexer": "ipython3",
   "version": "3.8.19"
  }
 },
 "nbformat": 4,
 "nbformat_minor": 5
}
